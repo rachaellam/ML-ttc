{
 "cells": [
  {
   "cell_type": "markdown",
   "id": "8321139b",
   "metadata": {},
   "source": [
    "# Modeling TTC Data"
   ]
  },
  {
   "cell_type": "markdown",
   "id": "ed329caa",
   "metadata": {},
   "source": [
    "## Preprocessing"
   ]
  },
  {
   "cell_type": "markdown",
   "id": "4b8ace2b",
   "metadata": {},
   "source": [
    "After collecting TTC data from 2014-2020, we had to do some preprocessing to have it all usable."
   ]
  },
  {
   "cell_type": "code",
   "execution_count": 129,
   "id": "e09ed29d",
   "metadata": {},
   "outputs": [],
   "source": [
    "import pandas as pd\n",
    "import matplotlib\n",
    "\n",
    "#reading each xlsx and changing columns to match to then concat\n",
    "df2014 = pd.read_excel('data/ttc-streetcar-delay-data-2014.xlsx')\n",
    "df2015 = pd.read_excel('data/ttc-streetcar-delay-data-2015.xlsx')\n",
    "df2016 = pd.read_excel('data/ttc-streetcar-delay-data-2016.xlsx')\n",
    "df2017 = pd.read_excel('data/ttc-streetcar-delay-data-2017.xlsx')\n",
    "df2018 = pd.read_excel('data/ttc-streetcar-delay-data-2018.xlsx')\n",
    "df2019 = pd.read_excel('data/ttc-streetcar-delay-data-2019.xlsx')\n",
    "df2020 = pd.read_excel('data/ttc-streetcar-delay-data-2020_final.xlsx').rename(columns={'Delay':'Min Delay',\n",
    "                                                                                  'Gap':'Min Gap'})\n",
    "df2021 = pd.read_excel('data/ttc-streetcar-delay-data-jan-2021-to-august-2021.xlsx').rename(columns={'Bound':'Direction',\n",
    "                                                                                               'Date':'Report Date',\n",
    "                                                                                               'Line':'Route'})\n",
    "\n",
    "df2014['Time'] = pd.to_datetime(df2014['Time'], format='%H:%M:%S').dt.time\n",
    "df2015['Time'] = pd.to_datetime(df2015['Time'], format='%H:%M:%S').dt.time\n",
    "df2016['Time'] = pd.to_datetime(df2016['Time'], format='%H:%M:%S').dt.time\n",
    "df2017['Time'] = pd.to_datetime(df2017['Time'], format='%H:%M:%S').dt.time\n",
    "df2018['Time'] = pd.to_datetime(df2018['Time'], format='%H:%M:%S').dt.time\n",
    "df2019['Time'] = pd.to_datetime(df2019['Time'], format='%H:%M:%S').dt.time\n",
    "df2020['Time'] = pd.to_datetime(df2020['Time'], format='%H:%M:%S').dt.time\n",
    "df2021['Time'] = pd.to_datetime(df2021['Time'], format='%H:%M:%S').dt.time\n",
    "\n",
    "frames = [df2014, df2015, df2016, df2017, df2018, df2019, df2020, df2021]\n",
    "df_all = pd.concat(frames)"
   ]
  },
  {
   "cell_type": "code",
   "execution_count": 130,
   "id": "580ac2e7",
   "metadata": {
    "scrolled": true
   },
   "outputs": [
    {
     "data": {
      "text/html": [
       "<div>\n",
       "<style scoped>\n",
       "    .dataframe tbody tr th:only-of-type {\n",
       "        vertical-align: middle;\n",
       "    }\n",
       "\n",
       "    .dataframe tbody tr th {\n",
       "        vertical-align: top;\n",
       "    }\n",
       "\n",
       "    .dataframe thead th {\n",
       "        text-align: right;\n",
       "    }\n",
       "</style>\n",
       "<table border=\"1\" class=\"dataframe\">\n",
       "  <thead>\n",
       "    <tr style=\"text-align: right;\">\n",
       "      <th></th>\n",
       "      <th>Report_Date</th>\n",
       "      <th>Route</th>\n",
       "      <th>Time</th>\n",
       "      <th>Day</th>\n",
       "      <th>Location</th>\n",
       "      <th>Incident</th>\n",
       "      <th>Min_Delay</th>\n",
       "      <th>Min_Gap</th>\n",
       "      <th>Direction</th>\n",
       "      <th>Vehicle</th>\n",
       "      <th>Round_Time</th>\n",
       "    </tr>\n",
       "  </thead>\n",
       "  <tbody>\n",
       "    <tr>\n",
       "      <th>0</th>\n",
       "      <td>2014-01-02</td>\n",
       "      <td>505</td>\n",
       "      <td>06:31:00</td>\n",
       "      <td>Thursday</td>\n",
       "      <td>Dundas and Roncesvalles</td>\n",
       "      <td>Late Leaving Garage</td>\n",
       "      <td>4.0</td>\n",
       "      <td>8.0</td>\n",
       "      <td>E/B</td>\n",
       "      <td>4018.0</td>\n",
       "      <td>06:30:00</td>\n",
       "    </tr>\n",
       "    <tr>\n",
       "      <th>1</th>\n",
       "      <td>2014-01-02</td>\n",
       "      <td>504</td>\n",
       "      <td>12:43:00</td>\n",
       "      <td>Thursday</td>\n",
       "      <td>King and Shaw</td>\n",
       "      <td>Utilized Off Route</td>\n",
       "      <td>20.0</td>\n",
       "      <td>22.0</td>\n",
       "      <td>E/B</td>\n",
       "      <td>4128.0</td>\n",
       "      <td>12:30:00</td>\n",
       "    </tr>\n",
       "    <tr>\n",
       "      <th>2</th>\n",
       "      <td>2014-01-02</td>\n",
       "      <td>501</td>\n",
       "      <td>14:01:00</td>\n",
       "      <td>Thursday</td>\n",
       "      <td>Kingston road and Bingham</td>\n",
       "      <td>Held By</td>\n",
       "      <td>13.0</td>\n",
       "      <td>19.0</td>\n",
       "      <td>W/B</td>\n",
       "      <td>4016.0</td>\n",
       "      <td>14:00:00</td>\n",
       "    </tr>\n",
       "    <tr>\n",
       "      <th>3</th>\n",
       "      <td>2014-01-02</td>\n",
       "      <td>504</td>\n",
       "      <td>14:22:00</td>\n",
       "      <td>Thursday</td>\n",
       "      <td>King St. and Roncesvalles Ave.</td>\n",
       "      <td>Investigation</td>\n",
       "      <td>7.0</td>\n",
       "      <td>11.0</td>\n",
       "      <td>W/B</td>\n",
       "      <td>4175.0</td>\n",
       "      <td>14:30:00</td>\n",
       "    </tr>\n",
       "    <tr>\n",
       "      <th>4</th>\n",
       "      <td>2014-01-02</td>\n",
       "      <td>504</td>\n",
       "      <td>16:42:00</td>\n",
       "      <td>Thursday</td>\n",
       "      <td>King and Bathurst</td>\n",
       "      <td>Utilized Off Route</td>\n",
       "      <td>3.0</td>\n",
       "      <td>6.0</td>\n",
       "      <td>E/B</td>\n",
       "      <td>4080.0</td>\n",
       "      <td>16:30:00</td>\n",
       "    </tr>\n",
       "    <tr>\n",
       "      <th>...</th>\n",
       "      <td>...</td>\n",
       "      <td>...</td>\n",
       "      <td>...</td>\n",
       "      <td>...</td>\n",
       "      <td>...</td>\n",
       "      <td>...</td>\n",
       "      <td>...</td>\n",
       "      <td>...</td>\n",
       "      <td>...</td>\n",
       "      <td>...</td>\n",
       "      <td>...</td>\n",
       "    </tr>\n",
       "    <tr>\n",
       "      <th>1013</th>\n",
       "      <td>2021-01-31</td>\n",
       "      <td>501</td>\n",
       "      <td>22:43:00</td>\n",
       "      <td>Sunday</td>\n",
       "      <td>QUEEN AND BROADVIEW</td>\n",
       "      <td>Emergency Services</td>\n",
       "      <td>11.0</td>\n",
       "      <td>21.0</td>\n",
       "      <td>W</td>\n",
       "      <td>4579.0</td>\n",
       "      <td>22:30:00</td>\n",
       "    </tr>\n",
       "    <tr>\n",
       "      <th>1014</th>\n",
       "      <td>2021-01-31</td>\n",
       "      <td>504</td>\n",
       "      <td>00:15:00</td>\n",
       "      <td>Sunday</td>\n",
       "      <td>KING AND SPADINA</td>\n",
       "      <td>Mechanical</td>\n",
       "      <td>3.0</td>\n",
       "      <td>8.0</td>\n",
       "      <td>W</td>\n",
       "      <td>4461.0</td>\n",
       "      <td>00:30:00</td>\n",
       "    </tr>\n",
       "    <tr>\n",
       "      <th>1015</th>\n",
       "      <td>2021-01-31</td>\n",
       "      <td>510</td>\n",
       "      <td>00:41:00</td>\n",
       "      <td>Sunday</td>\n",
       "      <td>SPADINA STATION</td>\n",
       "      <td>Emergency Services</td>\n",
       "      <td>20.0</td>\n",
       "      <td>30.0</td>\n",
       "      <td>NaN</td>\n",
       "      <td>4603.0</td>\n",
       "      <td>00:30:00</td>\n",
       "    </tr>\n",
       "    <tr>\n",
       "      <th>1016</th>\n",
       "      <td>2021-01-31</td>\n",
       "      <td>501</td>\n",
       "      <td>00:46:00</td>\n",
       "      <td>Sunday</td>\n",
       "      <td>QUEEN AND CHURCH</td>\n",
       "      <td>Held By</td>\n",
       "      <td>13.0</td>\n",
       "      <td>23.0</td>\n",
       "      <td>W</td>\n",
       "      <td>4432.0</td>\n",
       "      <td>01:00:00</td>\n",
       "    </tr>\n",
       "    <tr>\n",
       "      <th>1017</th>\n",
       "      <td>2021-01-31</td>\n",
       "      <td>510</td>\n",
       "      <td>01:23:00</td>\n",
       "      <td>Sunday</td>\n",
       "      <td>SPADINA AND COLLEGE</td>\n",
       "      <td>Cleaning</td>\n",
       "      <td>12.0</td>\n",
       "      <td>24.0</td>\n",
       "      <td>N</td>\n",
       "      <td>4403.0</td>\n",
       "      <td>01:30:00</td>\n",
       "    </tr>\n",
       "  </tbody>\n",
       "</table>\n",
       "<p>9080 rows × 11 columns</p>\n",
       "</div>"
      ],
      "text/plain": [
       "     Report_Date Route      Time       Day                        Location  \\\n",
       "0     2014-01-02   505  06:31:00  Thursday         Dundas and Roncesvalles   \n",
       "1     2014-01-02   504  12:43:00  Thursday                   King and Shaw   \n",
       "2     2014-01-02   501  14:01:00  Thursday       Kingston road and Bingham   \n",
       "3     2014-01-02   504  14:22:00  Thursday  King St. and Roncesvalles Ave.   \n",
       "4     2014-01-02   504  16:42:00  Thursday               King and Bathurst   \n",
       "...          ...   ...       ...       ...                             ...   \n",
       "1013  2021-01-31   501  22:43:00    Sunday             QUEEN AND BROADVIEW   \n",
       "1014  2021-01-31   504  00:15:00    Sunday                KING AND SPADINA   \n",
       "1015  2021-01-31   510  00:41:00    Sunday                 SPADINA STATION   \n",
       "1016  2021-01-31   501  00:46:00    Sunday                QUEEN AND CHURCH   \n",
       "1017  2021-01-31   510  01:23:00    Sunday             SPADINA AND COLLEGE   \n",
       "\n",
       "                 Incident  Min_Delay  Min_Gap Direction  Vehicle Round_Time  \n",
       "0     Late Leaving Garage        4.0      8.0       E/B   4018.0   06:30:00  \n",
       "1      Utilized Off Route       20.0     22.0       E/B   4128.0   12:30:00  \n",
       "2                 Held By       13.0     19.0       W/B   4016.0   14:00:00  \n",
       "3           Investigation        7.0     11.0       W/B   4175.0   14:30:00  \n",
       "4      Utilized Off Route        3.0      6.0       E/B   4080.0   16:30:00  \n",
       "...                   ...        ...      ...       ...      ...        ...  \n",
       "1013   Emergency Services       11.0     21.0         W   4579.0   22:30:00  \n",
       "1014           Mechanical        3.0      8.0         W   4461.0   00:30:00  \n",
       "1015   Emergency Services       20.0     30.0       NaN   4603.0   00:30:00  \n",
       "1016              Held By       13.0     23.0         W   4432.0   01:00:00  \n",
       "1017             Cleaning       12.0     24.0         N   4403.0   01:30:00  \n",
       "\n",
       "[9080 rows x 11 columns]"
      ]
     },
     "execution_count": 130,
     "metadata": {},
     "output_type": "execute_result"
    }
   ],
   "source": [
    "df_all = df_all.rename(columns={'Report Date':'Report_Date','Min Delay':'Min_Delay','Min Gap':'Min_Gap',\n",
    "                       'Round Time':'Round_Time'})\n",
    "df_all.to_csv('ttc-data.csv', index=False)\n",
    "df_all"
   ]
  },
  {
   "cell_type": "markdown",
   "id": "a8d3d5f2",
   "metadata": {},
   "source": [
    "## Early Data Exploration"
   ]
  },
  {
   "cell_type": "markdown",
   "id": "bc4dd57e",
   "metadata": {},
   "source": [
    "### Looking at which locations have the most delays"
   ]
  },
  {
   "cell_type": "code",
   "execution_count": 131,
   "id": "33abcd9d",
   "metadata": {},
   "outputs": [
    {
     "data": {
      "image/png": "[encoded data removed]",
      "text/plain": [
       "<Figure size 720x1080 with 1 Axes>"
      ]
     },
     "metadata": {},
     "output_type": "display_data"
    }
   ],
   "source": [
    "ax = df_all.Location.value_counts().nlargest(50).plot(kind='barh', figsize=(10,15))\n",
    "ax.set_xscale('log')"
   ]
  },
  {
   "cell_type": "markdown",
   "id": "3db76d38",
   "metadata": {},
   "source": [
    "### Sums of minutes delayed for each incident"
   ]
  },
  {
   "cell_type": "code",
   "execution_count": 132,
   "id": "51ef003c",
   "metadata": {
    "scrolled": true
   },
   "outputs": [
    {
     "data": {
      "text/plain": [
       "Incident\n",
       "Mechanical                  33239.0\n",
       "Held By                     19725.0\n",
       "Investigation               16716.0\n",
       "Late Leaving Garage          8298.0\n",
       "Emergency Services           6086.0\n",
       "General Delay                4695.0\n",
       "Diversion                    3196.0\n",
       "Operations                   2353.0\n",
       "Utilized Off Route           2100.0\n",
       "Cleaning                     1448.0\n",
       "Security                      784.0\n",
       "Overhead                      440.0\n",
       "Overhead - Pantograph         195.0\n",
       "Collision - TTC Involved      173.0\n",
       "Late                          119.0\n",
       "Rail/Switches                  50.0\n",
       "Name: Min_Delay, dtype: float64"
      ]
     },
     "execution_count": 132,
     "metadata": {},
     "output_type": "execute_result"
    }
   ],
   "source": [
    "df_all.groupby('Incident')['Min_Delay'].sum().sort_values(ascending=False)"
   ]
  },
  {
   "cell_type": "markdown",
   "id": "95f7953c",
   "metadata": {},
   "source": [
    "### Sums of minutes delayed for each location"
   ]
  },
  {
   "cell_type": "code",
   "execution_count": 133,
   "id": "2fe97a61",
   "metadata": {},
   "outputs": [
    {
     "data": {
      "text/plain": [
       "Location\n",
       "Leslie Barns                             3579.0\n",
       "Russell Yard                             1255.0\n",
       "Queen and Roncesvalles                    928.0\n",
       "Queen and Connaught                       776.0\n",
       "Dundas West Station                       747.0\n",
       "Queen and Broadview                       678.0\n",
       "Roncesvalles Yard                         602.0\n",
       "King and Dufferin                         558.0\n",
       "Roncesvalles and Queen                    544.0\n",
       "Roncy Yard                                542.0\n",
       "Broadview Station                         534.0\n",
       "king and spadina eb, kingand yirk wb      529.0\n",
       "Union Station                             513.0\n",
       "Spadina @ Dundas                          506.0\n",
       "Neville Loop                              496.0\n",
       "Humber Loop                               495.0\n",
       "St. Clair and Dufferin                    492.0\n",
       "Bathurst and Fleet                        488.0\n",
       "Queens Quay and Spadina                   462.0\n",
       "Oakwood to Gunns Loop both directions     458.0\n",
       "Dundas and Victoria                       438.0\n",
       "SPADINA AND QUEEN'S QU                    429.0\n",
       "King and Spadina                          406.0\n",
       "Main Station                              370.0\n",
       "DUNDAS WEST STATION                       359.0\n",
       "Bingham Loop                              358.0\n",
       "Elmer and Queen                           352.0\n",
       "CNE Loop                                  335.0\n",
       "Queen at Roncesvalles                     333.0\n",
       "Queen at Boulton                          324.0\n",
       "Broadview and Queen                       318.0\n",
       "lakeshore at Royal York                   313.0\n",
       "Roncesvalles Carhouse.                    312.0\n",
       "Broadview and Dundas                      301.0\n",
       "Broadview station                         294.0\n",
       "Dundas west station                       292.0\n",
       "Roncesvalles and Howard Park              291.0\n",
       "Coxwell and Gerrard                       290.0\n",
       "LOWER GERRARD AND COXW                    285.0\n",
       "WOODBINE AND KINGSTON                     285.0\n",
       "Queen at Connaught                        284.0\n",
       "Lakeshore/Symons                          284.0\n",
       "Broadview and Dunds                       283.0\n",
       "Broadview and Gerrard                     277.0\n",
       "BROADVIEW STATION                         272.0\n",
       "Spadina Station                           265.0\n",
       "Spadina and Queen                         259.0\n",
       "Queen's Quay and Bay St.                  254.0\n",
       "College and Spadina                       252.0\n",
       "High Park Loop                            245.0\n",
       "Name: Min_Delay, dtype: float64"
      ]
     },
     "execution_count": 133,
     "metadata": {},
     "output_type": "execute_result"
    }
   ],
   "source": [
    "df_all.groupby('Location')['Min_Delay'].sum().sort_values(ascending=False).nlargest(50)"
   ]
  },
  {
   "cell_type": "markdown",
   "id": "0e4d4c0b",
   "metadata": {},
   "source": [
    "### Sums of minutes delayed by day"
   ]
  },
  {
   "cell_type": "code",
   "execution_count": 134,
   "id": "f67cab59",
   "metadata": {},
   "outputs": [
    {
     "data": {
      "text/plain": [
       "Day\n",
       "Tuesday      16406.0\n",
       "Friday       15378.0\n",
       "Wednesday    15295.0\n",
       "Thursday     15217.0\n",
       "Monday       12875.0\n",
       "Saturday     12517.0\n",
       "Sunday       11929.0\n",
       "Name: Min_Delay, dtype: float64"
      ]
     },
     "execution_count": 134,
     "metadata": {},
     "output_type": "execute_result"
    }
   ],
   "source": [
    "df_all.groupby('Day')['Min_Delay'].sum().sort_values(ascending=False)"
   ]
  },
  {
   "cell_type": "markdown",
   "id": "84d894ed",
   "metadata": {},
   "source": [
    "### Data Summary"
   ]
  },
  {
   "cell_type": "code",
   "execution_count": 135,
   "id": "109d8cc3",
   "metadata": {},
   "outputs": [
    {
     "name": "stdout",
     "output_type": "stream",
     "text": [
      "The mean is 72.3435003631082 and standard deviation is 76.1645\n"
     ]
    }
   ],
   "source": [
    "time_delay = df_all.groupby('Time')['Min_Delay'].sum()\n",
    "std = time_delay.std()\n",
    "mean = time_delay.mean()\n",
    "print('The mean is %s and standard deviation is %g' %(mean, std))"
   ]
  },
  {
   "cell_type": "markdown",
   "id": "65d68f97",
   "metadata": {},
   "source": [
    "### Top 5 incidents per day and their delays in minutes"
   ]
  },
  {
   "cell_type": "code",
   "execution_count": 136,
   "id": "fd1da395",
   "metadata": {},
   "outputs": [
    {
     "data": {
      "text/html": [
       "<div>\n",
       "<style scoped>\n",
       "    .dataframe tbody tr th:only-of-type {\n",
       "        vertical-align: middle;\n",
       "    }\n",
       "\n",
       "    .dataframe tbody tr th {\n",
       "        vertical-align: top;\n",
       "    }\n",
       "\n",
       "    .dataframe thead th {\n",
       "        text-align: right;\n",
       "    }\n",
       "</style>\n",
       "<table border=\"1\" class=\"dataframe\">\n",
       "  <thead>\n",
       "    <tr style=\"text-align: right;\">\n",
       "      <th></th>\n",
       "      <th></th>\n",
       "      <th>Min_Delay</th>\n",
       "    </tr>\n",
       "    <tr>\n",
       "      <th>Day</th>\n",
       "      <th>Incident</th>\n",
       "      <th></th>\n",
       "    </tr>\n",
       "  </thead>\n",
       "  <tbody>\n",
       "    <tr>\n",
       "      <th rowspan=\"5\" valign=\"top\">Friday</th>\n",
       "      <th>Mechanical</th>\n",
       "      <td>5188.0</td>\n",
       "    </tr>\n",
       "    <tr>\n",
       "      <th>Investigation</th>\n",
       "      <td>2565.0</td>\n",
       "    </tr>\n",
       "    <tr>\n",
       "      <th>Held By</th>\n",
       "      <td>2173.0</td>\n",
       "    </tr>\n",
       "    <tr>\n",
       "      <th>Late Leaving Garage</th>\n",
       "      <td>1667.0</td>\n",
       "    </tr>\n",
       "    <tr>\n",
       "      <th>Emergency Services</th>\n",
       "      <td>1145.0</td>\n",
       "    </tr>\n",
       "    <tr>\n",
       "      <th rowspan=\"5\" valign=\"top\">Monday</th>\n",
       "      <th>Mechanical</th>\n",
       "      <td>5073.0</td>\n",
       "    </tr>\n",
       "    <tr>\n",
       "      <th>Held By</th>\n",
       "      <td>2696.0</td>\n",
       "    </tr>\n",
       "    <tr>\n",
       "      <th>Investigation</th>\n",
       "      <td>2000.0</td>\n",
       "    </tr>\n",
       "    <tr>\n",
       "      <th>Late Leaving Garage</th>\n",
       "      <td>851.0</td>\n",
       "    </tr>\n",
       "    <tr>\n",
       "      <th>General Delay</th>\n",
       "      <td>703.0</td>\n",
       "    </tr>\n",
       "    <tr>\n",
       "      <th rowspan=\"5\" valign=\"top\">Saturday</th>\n",
       "      <th>Mechanical</th>\n",
       "      <td>3942.0</td>\n",
       "    </tr>\n",
       "    <tr>\n",
       "      <th>Held By</th>\n",
       "      <td>2190.0</td>\n",
       "    </tr>\n",
       "    <tr>\n",
       "      <th>Investigation</th>\n",
       "      <td>2149.0</td>\n",
       "    </tr>\n",
       "    <tr>\n",
       "      <th>Diversion</th>\n",
       "      <td>823.0</td>\n",
       "    </tr>\n",
       "    <tr>\n",
       "      <th>General Delay</th>\n",
       "      <td>743.0</td>\n",
       "    </tr>\n",
       "    <tr>\n",
       "      <th rowspan=\"5\" valign=\"top\">Sunday</th>\n",
       "      <th>Mechanical</th>\n",
       "      <td>3083.0</td>\n",
       "    </tr>\n",
       "    <tr>\n",
       "      <th>Investigation</th>\n",
       "      <td>2318.0</td>\n",
       "    </tr>\n",
       "    <tr>\n",
       "      <th>Held By</th>\n",
       "      <td>2305.0</td>\n",
       "    </tr>\n",
       "    <tr>\n",
       "      <th>Diversion</th>\n",
       "      <td>1235.0</td>\n",
       "    </tr>\n",
       "    <tr>\n",
       "      <th>Late Leaving Garage</th>\n",
       "      <td>1018.0</td>\n",
       "    </tr>\n",
       "    <tr>\n",
       "      <th rowspan=\"5\" valign=\"top\">Thursday</th>\n",
       "      <th>Mechanical</th>\n",
       "      <td>4878.0</td>\n",
       "    </tr>\n",
       "    <tr>\n",
       "      <th>Held By</th>\n",
       "      <td>3216.0</td>\n",
       "    </tr>\n",
       "    <tr>\n",
       "      <th>Investigation</th>\n",
       "      <td>2897.0</td>\n",
       "    </tr>\n",
       "    <tr>\n",
       "      <th>Late Leaving Garage</th>\n",
       "      <td>2095.0</td>\n",
       "    </tr>\n",
       "    <tr>\n",
       "      <th>General Delay</th>\n",
       "      <td>534.0</td>\n",
       "    </tr>\n",
       "    <tr>\n",
       "      <th rowspan=\"5\" valign=\"top\">Tuesday</th>\n",
       "      <th>Mechanical</th>\n",
       "      <td>5790.0</td>\n",
       "    </tr>\n",
       "    <tr>\n",
       "      <th>Held By</th>\n",
       "      <td>3409.0</td>\n",
       "    </tr>\n",
       "    <tr>\n",
       "      <th>Investigation</th>\n",
       "      <td>2868.0</td>\n",
       "    </tr>\n",
       "    <tr>\n",
       "      <th>Emergency Services</th>\n",
       "      <td>1340.0</td>\n",
       "    </tr>\n",
       "    <tr>\n",
       "      <th>Late Leaving Garage</th>\n",
       "      <td>1151.0</td>\n",
       "    </tr>\n",
       "    <tr>\n",
       "      <th rowspan=\"5\" valign=\"top\">Wednesday</th>\n",
       "      <th>Mechanical</th>\n",
       "      <td>5285.0</td>\n",
       "    </tr>\n",
       "    <tr>\n",
       "      <th>Held By</th>\n",
       "      <td>3736.0</td>\n",
       "    </tr>\n",
       "    <tr>\n",
       "      <th>Investigation</th>\n",
       "      <td>1919.0</td>\n",
       "    </tr>\n",
       "    <tr>\n",
       "      <th>Emergency Services</th>\n",
       "      <td>1055.0</td>\n",
       "    </tr>\n",
       "    <tr>\n",
       "      <th>General Delay</th>\n",
       "      <td>880.0</td>\n",
       "    </tr>\n",
       "  </tbody>\n",
       "</table>\n",
       "</div>"
      ],
      "text/plain": [
       "                               Min_Delay\n",
       "Day       Incident                      \n",
       "Friday    Mechanical              5188.0\n",
       "          Investigation           2565.0\n",
       "          Held By                 2173.0\n",
       "          Late Leaving Garage     1667.0\n",
       "          Emergency Services      1145.0\n",
       "Monday    Mechanical              5073.0\n",
       "          Held By                 2696.0\n",
       "          Investigation           2000.0\n",
       "          Late Leaving Garage      851.0\n",
       "          General Delay            703.0\n",
       "Saturday  Mechanical              3942.0\n",
       "          Held By                 2190.0\n",
       "          Investigation           2149.0\n",
       "          Diversion                823.0\n",
       "          General Delay            743.0\n",
       "Sunday    Mechanical              3083.0\n",
       "          Investigation           2318.0\n",
       "          Held By                 2305.0\n",
       "          Diversion               1235.0\n",
       "          Late Leaving Garage     1018.0\n",
       "Thursday  Mechanical              4878.0\n",
       "          Held By                 3216.0\n",
       "          Investigation           2897.0\n",
       "          Late Leaving Garage     2095.0\n",
       "          General Delay            534.0\n",
       "Tuesday   Mechanical              5790.0\n",
       "          Held By                 3409.0\n",
       "          Investigation           2868.0\n",
       "          Emergency Services      1340.0\n",
       "          Late Leaving Garage     1151.0\n",
       "Wednesday Mechanical              5285.0\n",
       "          Held By                 3736.0\n",
       "          Investigation           1919.0\n",
       "          Emergency Services      1055.0\n",
       "          General Delay            880.0"
      ]
     },
     "execution_count": 136,
     "metadata": {},
     "output_type": "execute_result"
    }
   ],
   "source": [
    "df_agg = df_all.groupby(['Day','Incident']).agg({'Min_Delay':sum})\n",
    "g = df_agg['Min_Delay'].groupby('Day', group_keys=False)\n",
    "res = g.apply(lambda x: x.sort_values(ascending=False).head(5))\n",
    "pd.DataFrame(res)"
   ]
  },
  {
   "cell_type": "markdown",
   "id": "5ac3d66f",
   "metadata": {},
   "source": [
    "## Data Cleaning"
   ]
  },
  {
   "cell_type": "markdown",
   "id": "cac69401",
   "metadata": {},
   "source": [
    "### Dropping rows that are NaN"
   ]
  },
  {
   "cell_type": "code",
   "execution_count": 137,
   "id": "c587a8c0",
   "metadata": {},
   "outputs": [
    {
     "name": "stdout",
     "output_type": "stream",
     "text": [
      "<class 'pandas.core.frame.DataFrame'>\n",
      "Int64Index: 8957 entries, 0 to 9079\n",
      "Data columns (total 11 columns):\n",
      " #   Column       Non-Null Count  Dtype  \n",
      "---  ------       --------------  -----  \n",
      " 0   Report_Date  8957 non-null   object \n",
      " 1   Route        8957 non-null   object \n",
      " 2   Time         8957 non-null   object \n",
      " 3   Day          8957 non-null   object \n",
      " 4   Location     8957 non-null   object \n",
      " 5   Incident     8957 non-null   object \n",
      " 6   Min_Delay    8957 non-null   float64\n",
      " 7   Min_Gap      8957 non-null   float64\n",
      " 8   Direction    8957 non-null   object \n",
      " 9   Vehicle      8462 non-null   float64\n",
      " 10  Round_Time   8957 non-null   object \n",
      "dtypes: float64(3), object(8)\n",
      "memory usage: 839.7+ KB\n"
     ]
    }
   ],
   "source": [
    "import pandas as pd\n",
    "import numpy as np\n",
    "import random as rd\n",
    "import matplotlib.pyplot as plt\n",
    "\n",
    "df = pd.read_csv('ttc-data.csv')\n",
    "df = df[df['Min_Delay'].notna()]\n",
    "df = df[df['Route'].notna()]\n",
    "df = df[df['Location'].notna()]\n",
    "df = df[df['Min_Gap'].notna()]\n",
    "df = df[df['Direction'].notna()]\n",
    "\n",
    "df.info()\n",
    "\n",
    "#For testing\n",
    "#df['Vehicle'].isna().sum()"
   ]
  },
  {
   "cell_type": "markdown",
   "id": "44e2b68a",
   "metadata": {},
   "source": [
    "## Feature Extraction"
   ]
  },
  {
   "cell_type": "markdown",
   "id": "abf69aa8",
   "metadata": {},
   "source": [
    "### Time in hours after midnight"
   ]
  },
  {
   "cell_type": "code",
   "execution_count": 138,
   "id": "bb4e48c2",
   "metadata": {},
   "outputs": [
    {
     "data": {
      "text/html": [
       "<div>\n",
       "<style scoped>\n",
       "    .dataframe tbody tr th:only-of-type {\n",
       "        vertical-align: middle;\n",
       "    }\n",
       "\n",
       "    .dataframe tbody tr th {\n",
       "        vertical-align: top;\n",
       "    }\n",
       "\n",
       "    .dataframe thead th {\n",
       "        text-align: right;\n",
       "    }\n",
       "</style>\n",
       "<table border=\"1\" class=\"dataframe\">\n",
       "  <thead>\n",
       "    <tr style=\"text-align: right;\">\n",
       "      <th></th>\n",
       "      <th>Report_Date</th>\n",
       "      <th>Route</th>\n",
       "      <th>Time</th>\n",
       "      <th>Day</th>\n",
       "      <th>Location</th>\n",
       "      <th>Incident</th>\n",
       "      <th>Min_Delay</th>\n",
       "      <th>Min_Gap</th>\n",
       "      <th>Direction</th>\n",
       "      <th>Vehicle</th>\n",
       "      <th>Round_Time</th>\n",
       "      <th>Time_in_minutes</th>\n",
       "      <th>Time_in_hours</th>\n",
       "    </tr>\n",
       "  </thead>\n",
       "  <tbody>\n",
       "    <tr>\n",
       "      <th>0</th>\n",
       "      <td>2014-01-02</td>\n",
       "      <td>505</td>\n",
       "      <td>06:31:00</td>\n",
       "      <td>Thursday</td>\n",
       "      <td>Dundas and Roncesvalles</td>\n",
       "      <td>Late Leaving Garage</td>\n",
       "      <td>4.0</td>\n",
       "      <td>8.0</td>\n",
       "      <td>E/B</td>\n",
       "      <td>4018.0</td>\n",
       "      <td>06:30:00</td>\n",
       "      <td>391.0</td>\n",
       "      <td>6.516667</td>\n",
       "    </tr>\n",
       "    <tr>\n",
       "      <th>1</th>\n",
       "      <td>2014-01-02</td>\n",
       "      <td>504</td>\n",
       "      <td>12:43:00</td>\n",
       "      <td>Thursday</td>\n",
       "      <td>King and Shaw</td>\n",
       "      <td>Utilized Off Route</td>\n",
       "      <td>20.0</td>\n",
       "      <td>22.0</td>\n",
       "      <td>E/B</td>\n",
       "      <td>4128.0</td>\n",
       "      <td>12:30:00</td>\n",
       "      <td>763.0</td>\n",
       "      <td>12.716667</td>\n",
       "    </tr>\n",
       "    <tr>\n",
       "      <th>2</th>\n",
       "      <td>2014-01-02</td>\n",
       "      <td>501</td>\n",
       "      <td>14:01:00</td>\n",
       "      <td>Thursday</td>\n",
       "      <td>Kingston road and Bingham</td>\n",
       "      <td>Held By</td>\n",
       "      <td>13.0</td>\n",
       "      <td>19.0</td>\n",
       "      <td>W/B</td>\n",
       "      <td>4016.0</td>\n",
       "      <td>14:00:00</td>\n",
       "      <td>841.0</td>\n",
       "      <td>14.016667</td>\n",
       "    </tr>\n",
       "    <tr>\n",
       "      <th>3</th>\n",
       "      <td>2014-01-02</td>\n",
       "      <td>504</td>\n",
       "      <td>14:22:00</td>\n",
       "      <td>Thursday</td>\n",
       "      <td>King St. and Roncesvalles Ave.</td>\n",
       "      <td>Investigation</td>\n",
       "      <td>7.0</td>\n",
       "      <td>11.0</td>\n",
       "      <td>W/B</td>\n",
       "      <td>4175.0</td>\n",
       "      <td>14:30:00</td>\n",
       "      <td>862.0</td>\n",
       "      <td>14.366667</td>\n",
       "    </tr>\n",
       "    <tr>\n",
       "      <th>4</th>\n",
       "      <td>2014-01-02</td>\n",
       "      <td>504</td>\n",
       "      <td>16:42:00</td>\n",
       "      <td>Thursday</td>\n",
       "      <td>King and Bathurst</td>\n",
       "      <td>Utilized Off Route</td>\n",
       "      <td>3.0</td>\n",
       "      <td>6.0</td>\n",
       "      <td>E/B</td>\n",
       "      <td>4080.0</td>\n",
       "      <td>16:30:00</td>\n",
       "      <td>1002.0</td>\n",
       "      <td>16.700000</td>\n",
       "    </tr>\n",
       "    <tr>\n",
       "      <th>...</th>\n",
       "      <td>...</td>\n",
       "      <td>...</td>\n",
       "      <td>...</td>\n",
       "      <td>...</td>\n",
       "      <td>...</td>\n",
       "      <td>...</td>\n",
       "      <td>...</td>\n",
       "      <td>...</td>\n",
       "      <td>...</td>\n",
       "      <td>...</td>\n",
       "      <td>...</td>\n",
       "      <td>...</td>\n",
       "      <td>...</td>\n",
       "    </tr>\n",
       "    <tr>\n",
       "      <th>9074</th>\n",
       "      <td>2021-01-31</td>\n",
       "      <td>512</td>\n",
       "      <td>22:10:00</td>\n",
       "      <td>Sunday</td>\n",
       "      <td>GUNN'S LOOP</td>\n",
       "      <td>Mechanical</td>\n",
       "      <td>5.0</td>\n",
       "      <td>10.0</td>\n",
       "      <td>E</td>\n",
       "      <td>4495.0</td>\n",
       "      <td>22:00:00</td>\n",
       "      <td>1330.0</td>\n",
       "      <td>22.166667</td>\n",
       "    </tr>\n",
       "    <tr>\n",
       "      <th>9075</th>\n",
       "      <td>2021-01-31</td>\n",
       "      <td>501</td>\n",
       "      <td>22:43:00</td>\n",
       "      <td>Sunday</td>\n",
       "      <td>QUEEN AND BROADVIEW</td>\n",
       "      <td>Emergency Services</td>\n",
       "      <td>11.0</td>\n",
       "      <td>21.0</td>\n",
       "      <td>W</td>\n",
       "      <td>4579.0</td>\n",
       "      <td>22:30:00</td>\n",
       "      <td>1363.0</td>\n",
       "      <td>22.716667</td>\n",
       "    </tr>\n",
       "    <tr>\n",
       "      <th>9076</th>\n",
       "      <td>2021-01-31</td>\n",
       "      <td>504</td>\n",
       "      <td>00:15:00</td>\n",
       "      <td>Sunday</td>\n",
       "      <td>KING AND SPADINA</td>\n",
       "      <td>Mechanical</td>\n",
       "      <td>3.0</td>\n",
       "      <td>8.0</td>\n",
       "      <td>W</td>\n",
       "      <td>4461.0</td>\n",
       "      <td>00:30:00</td>\n",
       "      <td>15.0</td>\n",
       "      <td>0.250000</td>\n",
       "    </tr>\n",
       "    <tr>\n",
       "      <th>9078</th>\n",
       "      <td>2021-01-31</td>\n",
       "      <td>501</td>\n",
       "      <td>00:46:00</td>\n",
       "      <td>Sunday</td>\n",
       "      <td>QUEEN AND CHURCH</td>\n",
       "      <td>Held By</td>\n",
       "      <td>13.0</td>\n",
       "      <td>23.0</td>\n",
       "      <td>W</td>\n",
       "      <td>4432.0</td>\n",
       "      <td>01:00:00</td>\n",
       "      <td>46.0</td>\n",
       "      <td>0.766667</td>\n",
       "    </tr>\n",
       "    <tr>\n",
       "      <th>9079</th>\n",
       "      <td>2021-01-31</td>\n",
       "      <td>510</td>\n",
       "      <td>01:23:00</td>\n",
       "      <td>Sunday</td>\n",
       "      <td>SPADINA AND COLLEGE</td>\n",
       "      <td>Cleaning</td>\n",
       "      <td>12.0</td>\n",
       "      <td>24.0</td>\n",
       "      <td>N</td>\n",
       "      <td>4403.0</td>\n",
       "      <td>01:30:00</td>\n",
       "      <td>83.0</td>\n",
       "      <td>1.383333</td>\n",
       "    </tr>\n",
       "  </tbody>\n",
       "</table>\n",
       "<p>8957 rows × 13 columns</p>\n",
       "</div>"
      ],
      "text/plain": [
       "     Report_Date Route      Time       Day                        Location  \\\n",
       "0     2014-01-02   505  06:31:00  Thursday         Dundas and Roncesvalles   \n",
       "1     2014-01-02   504  12:43:00  Thursday                   King and Shaw   \n",
       "2     2014-01-02   501  14:01:00  Thursday       Kingston road and Bingham   \n",
       "3     2014-01-02   504  14:22:00  Thursday  King St. and Roncesvalles Ave.   \n",
       "4     2014-01-02   504  16:42:00  Thursday               King and Bathurst   \n",
       "...          ...   ...       ...       ...                             ...   \n",
       "9074  2021-01-31   512  22:10:00    Sunday                     GUNN'S LOOP   \n",
       "9075  2021-01-31   501  22:43:00    Sunday             QUEEN AND BROADVIEW   \n",
       "9076  2021-01-31   504  00:15:00    Sunday                KING AND SPADINA   \n",
       "9078  2021-01-31   501  00:46:00    Sunday                QUEEN AND CHURCH   \n",
       "9079  2021-01-31   510  01:23:00    Sunday             SPADINA AND COLLEGE   \n",
       "\n",
       "                 Incident  Min_Delay  Min_Gap Direction  Vehicle Round_Time  \\\n",
       "0     Late Leaving Garage        4.0      8.0       E/B   4018.0   06:30:00   \n",
       "1      Utilized Off Route       20.0     22.0       E/B   4128.0   12:30:00   \n",
       "2                 Held By       13.0     19.0       W/B   4016.0   14:00:00   \n",
       "3           Investigation        7.0     11.0       W/B   4175.0   14:30:00   \n",
       "4      Utilized Off Route        3.0      6.0       E/B   4080.0   16:30:00   \n",
       "...                   ...        ...      ...       ...      ...        ...   \n",
       "9074           Mechanical        5.0     10.0         E   4495.0   22:00:00   \n",
       "9075   Emergency Services       11.0     21.0         W   4579.0   22:30:00   \n",
       "9076           Mechanical        3.0      8.0         W   4461.0   00:30:00   \n",
       "9078              Held By       13.0     23.0         W   4432.0   01:00:00   \n",
       "9079             Cleaning       12.0     24.0         N   4403.0   01:30:00   \n",
       "\n",
       "      Time_in_minutes  Time_in_hours  \n",
       "0               391.0       6.516667  \n",
       "1               763.0      12.716667  \n",
       "2               841.0      14.016667  \n",
       "3               862.0      14.366667  \n",
       "4              1002.0      16.700000  \n",
       "...               ...            ...  \n",
       "9074           1330.0      22.166667  \n",
       "9075           1363.0      22.716667  \n",
       "9076             15.0       0.250000  \n",
       "9078             46.0       0.766667  \n",
       "9079             83.0       1.383333  \n",
       "\n",
       "[8957 rows x 13 columns]"
      ]
     },
     "execution_count": 138,
     "metadata": {},
     "output_type": "execute_result"
    }
   ],
   "source": [
    "from datetime import timedelta\n",
    "\n",
    "time_in_minutes = []\n",
    "time_in_hours = []\n",
    "\n",
    "for time in df['Time']:\n",
    "    time = time.split(\":\")\n",
    "    delta = timedelta(hours=int(time[0]), minutes=int(time[1]), seconds=int(time[2]))\n",
    "    total_seconds = delta.total_seconds()\n",
    "    time_in_minutes.append(total_seconds/60)\n",
    "    time_in_hours.append(total_seconds/60/60)\n",
    "\n",
    "df['Time_in_minutes'] = time_in_minutes\n",
    "df['Time_in_hours'] = time_in_hours\n",
    "    \n",
    "df"
   ]
  },
  {
   "cell_type": "markdown",
   "id": "36a8b1ed",
   "metadata": {},
   "source": [
    "## Exploring the Data"
   ]
  },
  {
   "cell_type": "markdown",
   "id": "fec16870",
   "metadata": {},
   "source": [
    "### Delay in minutes for each hour of day"
   ]
  },
  {
   "cell_type": "code",
   "execution_count": null,
   "id": "a1d0fd35",
   "metadata": {
    "scrolled": true
   },
   "outputs": [],
   "source": [
    "import seaborn as sns\n",
    "import matplotlib.pyplot as plt\n",
    "sns.set_theme(style=\"dark\")\n",
    "\n",
    "f, ax = plt.subplots(figsize=(6, 6))\n",
    "sns.scatterplot(x=df['Time_in_hours'], y=df['Min_Delay'], s=5, color=\".15\")"
   ]
  },
  {
   "cell_type": "markdown",
   "id": "62e1cd31",
   "metadata": {},
   "source": [
    "### Hour of day Incidents occur"
   ]
  },
  {
   "cell_type": "code",
   "execution_count": null,
   "id": "c7a40671",
   "metadata": {},
   "outputs": [],
   "source": [
    "sns.set_theme(style=\"dark\")\n",
    "\n",
    "f, ax = plt.subplots(figsize=(24, 6))\n",
    "sns.scatterplot(x=df['Incident'], y=df['Time_in_hours'], s=5, color=\".15\")"
   ]
  },
  {
   "cell_type": "markdown",
   "id": "8bfe6b54",
   "metadata": {},
   "source": [
    "### Day, Hour, Incident, and Delay in minutes"
   ]
  },
  {
   "cell_type": "code",
   "execution_count": null,
   "id": "89f17fd5",
   "metadata": {},
   "outputs": [],
   "source": [
    "sns.set_theme(style=\"white\")\n",
    "\n",
    "\n",
    "plt.figure(figsize=(20,4))\n",
    "# Plot miles per gallon against horsepower with other semantics\n",
    "sns.relplot(x=df['Time_in_hours'], y=df['Day'], hue=df['Incident'], size=df['Min_Delay'],\n",
    "            sizes=(40, 400), alpha=.5, palette=\"muted\",\n",
    "            height=7)\n"
   ]
  },
  {
   "cell_type": "markdown",
   "id": "cde4319c",
   "metadata": {},
   "source": [
    "## CatBoost Regression Model"
   ]
  },
  {
   "cell_type": "markdown",
   "id": "fb92abf9",
   "metadata": {},
   "source": [
    "For the first model attempt, we shall take a look at regression through CatBoost. CatBoost comes with a regressor and allows us to quickly use "
   ]
  },
  {
   "cell_type": "markdown",
   "id": "fe6b2eb3",
   "metadata": {},
   "source": [
    "### Preparation"
   ]
  },
  {
   "cell_type": "code",
   "execution_count": null,
   "id": "b01e6b39",
   "metadata": {},
   "outputs": [],
   "source": [
    "# Splitting\n",
    "# Dropping unused columns for training\n",
    "training = df.drop('Report_Date', axis=1)\n",
    "training = training.drop('Vehicle', axis=1)\n",
    "training = training.drop('Round_Time', axis=1)\n",
    "training = training.drop('Time', axis=1)\n",
    "\n",
    "testing = training.sample(2700, random_state=1) # pick 5000 observations randomly\n",
    "training = training.drop(testing.index) # Remove holdout from training data\n",
    "\n",
    "# Splitting training/testing set to feature (X) and labels (y)\n",
    "train_y = training.Min_Delay\n",
    "train_X = training.drop('Min_Delay', axis=1)\n",
    "\n",
    "test_X = testing.drop('Min_Delay', axis=1)\n",
    "\n",
    "train_X\n",
    "train_X.info()"
   ]
  },
  {
   "cell_type": "markdown",
   "id": "66d867a3",
   "metadata": {},
   "source": [
    "### Building the regressor"
   ]
  },
  {
   "cell_type": "code",
   "execution_count": null,
   "id": "ae8946c1",
   "metadata": {},
   "outputs": [],
   "source": [
    "from catboost import Pool, CatBoostRegressor\n",
    "from sklearn.metrics import mean_squared_error\n",
    "\n",
    "\n",
    "cat_features = ['Route', 'Day', 'Location', 'Incident', 'Direction']\n",
    "\n",
    "\n",
    "train_dataset = Pool(data=train_X,\n",
    "                     label=train_y,\n",
    "                     cat_features=cat_features)    "
   ]
  },
  {
   "cell_type": "markdown",
   "id": "156bfcdc",
   "metadata": {},
   "source": [
    "### Testing out depths"
   ]
  },
  {
   "cell_type": "markdown",
   "id": "d33a8a88",
   "metadata": {},
   "source": [
    "We will be using the Root Mean Square Error (RMES) to assess which depth is best for our CatBoost regression model to train on. We use RMES as we are trying to predict a continuous value of minutes delayed."
   ]
  },
  {
   "cell_type": "code",
   "execution_count": null,
   "id": "5b1d5268",
   "metadata": {},
   "outputs": [],
   "source": [
    "depths = []\n",
    "results = []\n",
    "\n",
    "#Building model and testing out various depths' Root Mean Square Error (RMES)\n",
    "for d in range(4,11): \n",
    "    catboost_model = CatBoostRegressor(iterations=50,\n",
    "                               learning_rate=1,\n",
    "                               depth=d,\n",
    "                               verbose=False)\n",
    "    \n",
    "    catboost_model.fit(train_dataset)\n",
    "    \n",
    "    pred = catboost_model.predict(train_X)\n",
    "    mse = mean_squared_error(train_y, pred)\n",
    "    depths.append(d)\n",
    "    results.append(np.sqrt(mse))\n",
    "    \n",
    "\n",
    "#Printing the depth and corresponding RMES\n",
    "print('\\nDepth \\tRMSE')\n",
    "for i in range(len(results)):\n",
    "    print(depths[i],\"\\t\",results[i])"
   ]
  },
  {
   "cell_type": "markdown",
   "id": "13ba0cd5",
   "metadata": {},
   "source": [
    "Looking at these results, we can see that for 50 iterations, a depth of 8 is ideal. We construct it below."
   ]
  },
  {
   "cell_type": "code",
   "execution_count": null,
   "id": "b7a2436c",
   "metadata": {},
   "outputs": [],
   "source": [
    "cat_features = ['Route', 'Day', 'Location', 'Incident', 'Direction']\n",
    "\n",
    "\n",
    "train_dataset = Pool(data=train_X,\n",
    "                     label=train_y,\n",
    "                     cat_features=cat_features)\n",
    "\n",
    "catboost_model = CatBoostRegressor(iterations=50,\n",
    "                           learning_rate=1,\n",
    "                           depth=6)\n",
    "\n",
    "catboost_model.fit(train_dataset)"
   ]
  },
  {
   "cell_type": "markdown",
   "id": "ab0c73fe",
   "metadata": {},
   "source": [
    "### Checking the CatBoost Regressor's Root Mean Squared Error"
   ]
  },
  {
   "cell_type": "markdown",
   "id": "6311dc18",
   "metadata": {},
   "source": [
    "Let's see how the model does against the testing set."
   ]
  },
  {
   "cell_type": "markdown",
   "id": "f6975db8",
   "metadata": {},
   "source": [
    "### Predicting against Training set"
   ]
  },
  {
   "cell_type": "code",
   "execution_count": null,
   "id": "cff37be6",
   "metadata": {},
   "outputs": [],
   "source": [
    "pred = catboost_model.predict(train_X)\n",
    "mse = mean_squared_error(train_y, pred)\n",
    "print(np.sqrt(mse))"
   ]
  },
  {
   "cell_type": "markdown",
   "id": "f69b90e6",
   "metadata": {},
   "source": [
    "### Predicting against Testing set"
   ]
  },
  {
   "cell_type": "code",
   "execution_count": null,
   "id": "313cc6a2",
   "metadata": {},
   "outputs": [],
   "source": [
    "pred = catboost_model.predict(testing.drop('Min_Delay',axis=1))\n",
    "mse = mean_squared_error(testing['Min_Delay'], pred)\n",
    "print(np.sqrt(mse))"
   ]
  },
  {
   "cell_type": "markdown",
   "id": "5378b3c0",
   "metadata": {},
   "source": [
    "Based on these results, our catboost model is off by ~7.5 on its predictions for minutes delay. This is not bad but not great. The difference betwee the training and testing is <1 so the fit is ok. "
   ]
  },
  {
   "cell_type": "markdown",
   "id": "75d3fcf8",
   "metadata": {},
   "source": [
    "Now, let's compare these results to a baseline to see if our model is any better at all."
   ]
  },
  {
   "cell_type": "markdown",
   "id": "fe2b08d7",
   "metadata": {},
   "source": [
    "## Baseline Model"
   ]
  },
  {
   "cell_type": "markdown",
   "id": "a2fd0501",
   "metadata": {},
   "source": [
    "The baseline simply finds the mean minutes delayed for each incident, and uses that to predict the minutes delayed."
   ]
  },
  {
   "cell_type": "code",
   "execution_count": null,
   "id": "3286af6e",
   "metadata": {},
   "outputs": [],
   "source": [
    "#create a dict of unique incidents\n",
    "incidents = df['Incident'].unique()\n",
    "means = {}\n",
    "\n",
    "#Find and store mean of Min_Delay minutes of each incident\n",
    "for i in incidents:\n",
    "    means[i] = df.loc[df['Incident'] == i]['Min_Delay'].mean()"
   ]
  },
  {
   "cell_type": "markdown",
   "id": "7480f210",
   "metadata": {},
   "source": [
    "Let's see how the baseline fares."
   ]
  },
  {
   "cell_type": "markdown",
   "id": "9d951974",
   "metadata": {},
   "source": [
    "### Baseline against Training set"
   ]
  },
  {
   "cell_type": "code",
   "execution_count": null,
   "id": "ffe53604",
   "metadata": {},
   "outputs": [],
   "source": [
    "baseline_pred = []\n",
    "\n",
    "#Baseline comparison to training set\n",
    "for incident in training['Incident']:\n",
    "    baseline_pred.append(means[incident])\n",
    "\n",
    "#Accuracy test for baseline predictions on training set\n",
    "mse = mean_squared_error(training['Min_Delay'], baseline_pred)  \n",
    "print(np.sqrt(mse))"
   ]
  },
  {
   "cell_type": "markdown",
   "id": "72cce98c",
   "metadata": {},
   "source": [
    "### Baseline against Testing set"
   ]
  },
  {
   "cell_type": "code",
   "execution_count": null,
   "id": "576c146b",
   "metadata": {},
   "outputs": [],
   "source": [
    "baseline_pred = []\n",
    "\n",
    "#Baseline comparison to testing set\n",
    "for incident in testing['Incident']:\n",
    "    baseline_pred.append(means[incident])\n",
    "\n",
    "#Accuracy test for baseline predictions on testing set\n",
    "mse = mean_squared_error(testing['Min_Delay'], baseline_pred)  \n",
    "print(np.sqrt(mse))"
   ]
  },
  {
   "cell_type": "markdown",
   "id": "7bef5de2",
   "metadata": {},
   "source": [
    "We can see the baseline has a much higher RMSE than the CatBoost model. The CatBoost model does alright. Let's see if there's a way to get them lower by using another regression model."
   ]
  },
  {
   "cell_type": "markdown",
   "id": "bfe67a1b",
   "metadata": {},
   "source": [
    "## Simple Decision Tree Regression model"
   ]
  },
  {
   "cell_type": "markdown",
   "id": "bdfaf066",
   "metadata": {},
   "source": [
    "We will use SciKit's decision tree regressor library for this model."
   ]
  },
  {
   "cell_type": "markdown",
   "id": "fa0183c3",
   "metadata": {},
   "source": [
    "Since we need to use numerical data, we convert our categorical features using encoding."
   ]
  },
  {
   "cell_type": "markdown",
   "id": "d84cfe06",
   "metadata": {},
   "source": [
    "### Separating categorical features"
   ]
  },
  {
   "cell_type": "code",
   "execution_count": null,
   "id": "c0395978",
   "metadata": {},
   "outputs": [],
   "source": [
    "cat_data = train_X.drop('Time_in_minutes', axis=1)\n",
    "cat_data = cat_data.drop('Time_in_hours', axis=1)\n",
    "cat_data = cat_data.drop('Min_Gap', axis=1)\n",
    "cat_data['Route'].replace('Rad', 0)\n",
    "cat_data"
   ]
  },
  {
   "cell_type": "markdown",
   "id": "f876fdab",
   "metadata": {},
   "source": [
    "### Converting data to numerical"
   ]
  },
  {
   "cell_type": "code",
   "execution_count": null,
   "id": "0607e3cb",
   "metadata": {},
   "outputs": [],
   "source": [
    "#create encoded df\n",
    "num_df = df\n",
    "\n",
    "for cat in cat_data:\n",
    "    dummies = pd.get_dummies(train_X[cat])\n",
    "    num_df = pd.concat([num_df, dummies], axis=1)\n",
    "    num_df = num_df.drop(cat, axis=1)\n",
    "\n",
    "num_df = num_df.drop('Report_Date', axis=1)\n",
    "num_df = num_df.drop('Vehicle', axis=1)\n",
    "num_df = num_df.drop('Round_Time', axis=1)\n",
    "num_df = num_df.drop('Time', axis=1)\n",
    "num_df"
   ]
  },
  {
   "cell_type": "markdown",
   "id": "b9387d26",
   "metadata": {},
   "source": [
    "### Building the regressor"
   ]
  },
  {
   "cell_type": "code",
   "execution_count": null,
   "id": "65bb486b",
   "metadata": {},
   "outputs": [],
   "source": [
    "from sklearn import tree\n",
    "\n",
    "training = num_df\n",
    "\n",
    "testing = training.sample(2700, random_state=1) # pick observations randomly\n",
    "training = training.drop(testing.index) # Remove testing data from training data\n",
    "\n",
    "# Splitting training/testing set to feature (X) and labels (y)\n",
    "train_y = training.Min_Delay\n",
    "train_X = training.drop('Min_Delay', axis=1)\n",
    "\n",
    "testing = training.sample(2700, random_state=1)\n",
    "test_y = testing.Min_Delay\n",
    "test_X = testing.drop('Min_Delay', axis=1)\n",
    "\n",
    "\n",
    "reg = tree.DecisionTreeRegressor()\n",
    "reg = reg.fit(train_X, train_y)"
   ]
  },
  {
   "cell_type": "markdown",
   "id": "ca60a602",
   "metadata": {},
   "source": [
    "### Checking the Simple Decision Tree Regressor's Root Mean Squared Error"
   ]
  },
  {
   "cell_type": "markdown",
   "id": "78bfd6ba",
   "metadata": {},
   "source": [
    "Let's see how the simple decision tree regressor performs."
   ]
  },
  {
   "cell_type": "markdown",
   "id": "b9ec5b60",
   "metadata": {},
   "source": [
    "### Predicting against Training set"
   ]
  },
  {
   "cell_type": "code",
   "execution_count": null,
   "id": "9f160e64",
   "metadata": {},
   "outputs": [],
   "source": [
    "pred = reg.predict(train_X)\n",
    "mse = mean_squared_error(train_y, pred)\n",
    "print(np.sqrt(mse))"
   ]
  },
  {
   "cell_type": "markdown",
   "id": "9521d960",
   "metadata": {},
   "source": [
    "### Predicting against Testing set"
   ]
  },
  {
   "cell_type": "code",
   "execution_count": null,
   "id": "cc89d0cc",
   "metadata": {},
   "outputs": [],
   "source": [
    "pred = reg.predict(test_X)\n",
    "mse = mean_squared_error(test_y, pred)\n",
    "print(np.sqrt(mse))"
   ]
  },
  {
   "cell_type": "code",
   "execution_count": null,
   "id": "ece06c65",
   "metadata": {},
   "outputs": [],
   "source": [
    "Looking at the RMSE of the simple decision t, we notice they are much lower than that of CatBoost"
   ]
  }
 ],
 "metadata": {
  "kernelspec": {
   "display_name": "Python 3",
   "language": "python",
   "name": "python3"
  },
  "language_info": {
   "codemirror_mode": {
    "name": "ipython",
    "version": 3
   },
   "file_extension": ".py",
   "mimetype": "text/x-python",
   "name": "python",
   "nbconvert_exporter": "python",
   "pygments_lexer": "ipython3",
   "version": "3.8.8"
  }
 },
 "nbformat": 4,
 "nbformat_minor": 5
}
