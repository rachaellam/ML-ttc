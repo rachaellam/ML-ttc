{
 "cells": [
  {
   "cell_type": "markdown",
   "id": "e15e00d1",
   "metadata": {},
   "source": [
    "# Machine Learning for TTC"
   ]
  },
  {
   "cell_type": "markdown",
   "id": "ae6d83bc",
   "metadata": {},
   "source": [
    "## Describing the data"
   ]
  },
  {
   "cell_type": "code",
   "execution_count": 153,
   "id": "81b70db7",
   "metadata": {},
   "outputs": [
    {
     "data": {
      "text/html": [
       "<div>\n",
       "<style scoped>\n",
       "    .dataframe tbody tr th:only-of-type {\n",
       "        vertical-align: middle;\n",
       "    }\n",
       "\n",
       "    .dataframe tbody tr th {\n",
       "        vertical-align: top;\n",
       "    }\n",
       "\n",
       "    .dataframe thead th {\n",
       "        text-align: right;\n",
       "    }\n",
       "</style>\n",
       "<table border=\"1\" class=\"dataframe\">\n",
       "  <thead>\n",
       "    <tr style=\"text-align: right;\">\n",
       "      <th></th>\n",
       "      <th>Report_Date</th>\n",
       "      <th>Route</th>\n",
       "      <th>Time</th>\n",
       "      <th>Day</th>\n",
       "      <th>Location</th>\n",
       "      <th>Incident</th>\n",
       "      <th>Min_Delay</th>\n",
       "      <th>Min_Gap</th>\n",
       "      <th>Direction</th>\n",
       "      <th>Vehicle</th>\n",
       "      <th>Round_Time</th>\n",
       "    </tr>\n",
       "  </thead>\n",
       "  <tbody>\n",
       "    <tr>\n",
       "      <th>0</th>\n",
       "      <td>2014-01-02</td>\n",
       "      <td>505</td>\n",
       "      <td>06:31:00</td>\n",
       "      <td>Thursday</td>\n",
       "      <td>dundas_and_roncesvalles</td>\n",
       "      <td>late_leaving_garage</td>\n",
       "      <td>4.0</td>\n",
       "      <td>8.0</td>\n",
       "      <td>E/B</td>\n",
       "      <td>4018.0</td>\n",
       "      <td>06:30:00</td>\n",
       "    </tr>\n",
       "    <tr>\n",
       "      <th>1</th>\n",
       "      <td>2014-01-02</td>\n",
       "      <td>504</td>\n",
       "      <td>12:43:00</td>\n",
       "      <td>Thursday</td>\n",
       "      <td>king_and_shaw</td>\n",
       "      <td>utilized_off_route</td>\n",
       "      <td>20.0</td>\n",
       "      <td>22.0</td>\n",
       "      <td>E/B</td>\n",
       "      <td>4128.0</td>\n",
       "      <td>12:30:00</td>\n",
       "    </tr>\n",
       "    <tr>\n",
       "      <th>2</th>\n",
       "      <td>2014-01-02</td>\n",
       "      <td>501</td>\n",
       "      <td>14:01:00</td>\n",
       "      <td>Thursday</td>\n",
       "      <td>kingston_road_and_bingham</td>\n",
       "      <td>held_by</td>\n",
       "      <td>13.0</td>\n",
       "      <td>19.0</td>\n",
       "      <td>W/B</td>\n",
       "      <td>4016.0</td>\n",
       "      <td>14:00:00</td>\n",
       "    </tr>\n",
       "    <tr>\n",
       "      <th>3</th>\n",
       "      <td>2014-01-02</td>\n",
       "      <td>504</td>\n",
       "      <td>14:22:00</td>\n",
       "      <td>Thursday</td>\n",
       "      <td>king_st._and_roncesvalles_ave.</td>\n",
       "      <td>investigation</td>\n",
       "      <td>7.0</td>\n",
       "      <td>11.0</td>\n",
       "      <td>W/B</td>\n",
       "      <td>4175.0</td>\n",
       "      <td>14:30:00</td>\n",
       "    </tr>\n",
       "    <tr>\n",
       "      <th>4</th>\n",
       "      <td>2014-01-02</td>\n",
       "      <td>504</td>\n",
       "      <td>16:42:00</td>\n",
       "      <td>Thursday</td>\n",
       "      <td>king_and_bathurst</td>\n",
       "      <td>utilized_off_route</td>\n",
       "      <td>3.0</td>\n",
       "      <td>6.0</td>\n",
       "      <td>E/B</td>\n",
       "      <td>4080.0</td>\n",
       "      <td>16:30:00</td>\n",
       "    </tr>\n",
       "    <tr>\n",
       "      <th>5</th>\n",
       "      <td>2014-01-02</td>\n",
       "      <td>501</td>\n",
       "      <td>17:39:00</td>\n",
       "      <td>Thursday</td>\n",
       "      <td>queen_and_beaconsfeild</td>\n",
       "      <td>held_by</td>\n",
       "      <td>7.0</td>\n",
       "      <td>13.0</td>\n",
       "      <td>W/B</td>\n",
       "      <td>4202.0</td>\n",
       "      <td>17:30:00</td>\n",
       "    </tr>\n",
       "    <tr>\n",
       "      <th>6</th>\n",
       "      <td>2014-01-02</td>\n",
       "      <td>504</td>\n",
       "      <td>18:38:00</td>\n",
       "      <td>Thursday</td>\n",
       "      <td>roncesvalles_and_king_street_west</td>\n",
       "      <td>utilized_off_route</td>\n",
       "      <td>4.0</td>\n",
       "      <td>7.0</td>\n",
       "      <td>E/B</td>\n",
       "      <td>4100.0</td>\n",
       "      <td>18:30:00</td>\n",
       "    </tr>\n",
       "    <tr>\n",
       "      <th>7</th>\n",
       "      <td>2014-01-02</td>\n",
       "      <td>510</td>\n",
       "      <td>19:27:00</td>\n",
       "      <td>Thursday</td>\n",
       "      <td>spadina_and_st._andrews</td>\n",
       "      <td>investigation</td>\n",
       "      <td>20.0</td>\n",
       "      <td>22.0</td>\n",
       "      <td>S/B</td>\n",
       "      <td>4123.0</td>\n",
       "      <td>19:30:00</td>\n",
       "    </tr>\n",
       "    <tr>\n",
       "      <th>8</th>\n",
       "      <td>2014-01-03</td>\n",
       "      <td>504</td>\n",
       "      <td>01:00:00</td>\n",
       "      <td>Friday</td>\n",
       "      <td>broadview_and_queen</td>\n",
       "      <td>utilized_off_route</td>\n",
       "      <td>7.0</td>\n",
       "      <td>14.0</td>\n",
       "      <td>W/B</td>\n",
       "      <td>4079.0</td>\n",
       "      <td>01:00:00</td>\n",
       "    </tr>\n",
       "    <tr>\n",
       "      <th>9</th>\n",
       "      <td>2014-01-03</td>\n",
       "      <td>512</td>\n",
       "      <td>05:09:00</td>\n",
       "      <td>Friday</td>\n",
       "      <td>bathurst_and_st._clair</td>\n",
       "      <td>mechanical</td>\n",
       "      <td>3.0</td>\n",
       "      <td>6.0</td>\n",
       "      <td>E/B</td>\n",
       "      <td>4160.0</td>\n",
       "      <td>05:00:00</td>\n",
       "    </tr>\n",
       "  </tbody>\n",
       "</table>\n",
       "</div>"
      ],
      "text/plain": [
       "  Report_Date Route      Time       Day                           Location  \\\n",
       "0  2014-01-02   505  06:31:00  Thursday            dundas_and_roncesvalles   \n",
       "1  2014-01-02   504  12:43:00  Thursday                      king_and_shaw   \n",
       "2  2014-01-02   501  14:01:00  Thursday          kingston_road_and_bingham   \n",
       "3  2014-01-02   504  14:22:00  Thursday     king_st._and_roncesvalles_ave.   \n",
       "4  2014-01-02   504  16:42:00  Thursday                  king_and_bathurst   \n",
       "5  2014-01-02   501  17:39:00  Thursday             queen_and_beaconsfeild   \n",
       "6  2014-01-02   504  18:38:00  Thursday  roncesvalles_and_king_street_west   \n",
       "7  2014-01-02   510  19:27:00  Thursday            spadina_and_st._andrews   \n",
       "8  2014-01-03   504  01:00:00    Friday                broadview_and_queen   \n",
       "9  2014-01-03   512  05:09:00    Friday             bathurst_and_st._clair   \n",
       "\n",
       "              Incident  Min_Delay  Min_Gap Direction  Vehicle Round_Time  \n",
       "0  late_leaving_garage        4.0      8.0       E/B   4018.0   06:30:00  \n",
       "1   utilized_off_route       20.0     22.0       E/B   4128.0   12:30:00  \n",
       "2              held_by       13.0     19.0       W/B   4016.0   14:00:00  \n",
       "3        investigation        7.0     11.0       W/B   4175.0   14:30:00  \n",
       "4   utilized_off_route        3.0      6.0       E/B   4080.0   16:30:00  \n",
       "5              held_by        7.0     13.0       W/B   4202.0   17:30:00  \n",
       "6   utilized_off_route        4.0      7.0       E/B   4100.0   18:30:00  \n",
       "7        investigation       20.0     22.0       S/B   4123.0   19:30:00  \n",
       "8   utilized_off_route        7.0     14.0       W/B   4079.0   01:00:00  \n",
       "9           mechanical        3.0      6.0       E/B   4160.0   05:00:00  "
      ]
     },
     "execution_count": 153,
     "metadata": {},
     "output_type": "execute_result"
    }
   ],
   "source": [
    "import pandas as pd\n",
    "import pandas as pd\n",
    "import numpy as np\n",
    "import random as rd\n",
    "import matplotlib.pyplot as plt\n",
    "\n",
    "df = pd.read_csv('ttc-data.csv')\n",
    "\n",
    "df.head(10)"
   ]
  },
  {
   "cell_type": "code",
   "execution_count": 154,
   "id": "7edf0d01",
   "metadata": {
    "scrolled": false
   },
   "outputs": [
    {
     "data": {
      "text/html": [
       "<div>\n",
       "<style scoped>\n",
       "    .dataframe tbody tr th:only-of-type {\n",
       "        vertical-align: middle;\n",
       "    }\n",
       "\n",
       "    .dataframe tbody tr th {\n",
       "        vertical-align: top;\n",
       "    }\n",
       "\n",
       "    .dataframe thead th {\n",
       "        text-align: right;\n",
       "    }\n",
       "</style>\n",
       "<table border=\"1\" class=\"dataframe\">\n",
       "  <thead>\n",
       "    <tr style=\"text-align: right;\">\n",
       "      <th></th>\n",
       "      <th>Min_Delay</th>\n",
       "      <th>Min_Gap</th>\n",
       "      <th>Vehicle</th>\n",
       "    </tr>\n",
       "  </thead>\n",
       "  <tbody>\n",
       "    <tr>\n",
       "      <th>count</th>\n",
       "      <td>9077.000000</td>\n",
       "      <td>9075.000000</td>\n",
       "      <td>8577.000000</td>\n",
       "    </tr>\n",
       "    <tr>\n",
       "      <th>mean</th>\n",
       "      <td>10.974661</td>\n",
       "      <td>16.521873</td>\n",
       "      <td>4266.468346</td>\n",
       "    </tr>\n",
       "    <tr>\n",
       "      <th>std</th>\n",
       "      <td>22.041684</td>\n",
       "      <td>21.190334</td>\n",
       "      <td>1380.678940</td>\n",
       "    </tr>\n",
       "    <tr>\n",
       "      <th>min</th>\n",
       "      <td>0.000000</td>\n",
       "      <td>0.000000</td>\n",
       "      <td>0.000000</td>\n",
       "    </tr>\n",
       "    <tr>\n",
       "      <th>25%</th>\n",
       "      <td>5.000000</td>\n",
       "      <td>9.000000</td>\n",
       "      <td>4080.000000</td>\n",
       "    </tr>\n",
       "    <tr>\n",
       "      <th>50%</th>\n",
       "      <td>6.000000</td>\n",
       "      <td>12.000000</td>\n",
       "      <td>4191.000000</td>\n",
       "    </tr>\n",
       "    <tr>\n",
       "      <th>75%</th>\n",
       "      <td>10.000000</td>\n",
       "      <td>18.000000</td>\n",
       "      <td>4446.000000</td>\n",
       "    </tr>\n",
       "    <tr>\n",
       "      <th>max</th>\n",
       "      <td>600.000000</td>\n",
       "      <td>535.000000</td>\n",
       "      <td>9446.000000</td>\n",
       "    </tr>\n",
       "  </tbody>\n",
       "</table>\n",
       "</div>"
      ],
      "text/plain": [
       "         Min_Delay      Min_Gap      Vehicle\n",
       "count  9077.000000  9075.000000  8577.000000\n",
       "mean     10.974661    16.521873  4266.468346\n",
       "std      22.041684    21.190334  1380.678940\n",
       "min       0.000000     0.000000     0.000000\n",
       "25%       5.000000     9.000000  4080.000000\n",
       "50%       6.000000    12.000000  4191.000000\n",
       "75%      10.000000    18.000000  4446.000000\n",
       "max     600.000000   535.000000  9446.000000"
      ]
     },
     "execution_count": 154,
     "metadata": {},
     "output_type": "execute_result"
    }
   ],
   "source": [
    "df.describe()"
   ]
  },
  {
   "cell_type": "code",
   "execution_count": 155,
   "id": "9b320380",
   "metadata": {},
   "outputs": [
    {
     "name": "stdout",
     "output_type": "stream",
     "text": [
      "<class 'pandas.core.frame.DataFrame'>\n",
      "RangeIndex: 9080 entries, 0 to 9079\n",
      "Data columns (total 11 columns):\n",
      " #   Column       Non-Null Count  Dtype  \n",
      "---  ------       --------------  -----  \n",
      " 0   Report_Date  9080 non-null   object \n",
      " 1   Route        9078 non-null   object \n",
      " 2   Time         9080 non-null   object \n",
      " 3   Day          9080 non-null   object \n",
      " 4   Location     9059 non-null   object \n",
      " 5   Incident     9080 non-null   object \n",
      " 6   Min_Delay    9077 non-null   float64\n",
      " 7   Min_Gap      9075 non-null   float64\n",
      " 8   Direction    8982 non-null   object \n",
      " 9   Vehicle      8577 non-null   float64\n",
      " 10  Round_Time   9080 non-null   object \n",
      "dtypes: float64(3), object(8)\n",
      "memory usage: 780.4+ KB\n"
     ]
    }
   ],
   "source": [
    "df.info()"
   ]
  },
  {
   "cell_type": "markdown",
   "id": "c361d86d",
   "metadata": {},
   "source": [
    "## Data Cleaning"
   ]
  },
  {
   "cell_type": "markdown",
   "id": "e24517f1",
   "metadata": {},
   "source": [
    "### Replace NaN with 0"
   ]
  },
  {
   "cell_type": "code",
   "execution_count": 156,
   "id": "ab8dfd5b",
   "metadata": {},
   "outputs": [
    {
     "data": {
      "text/plain": [
       "0"
      ]
     },
     "execution_count": 156,
     "metadata": {},
     "output_type": "execute_result"
    }
   ],
   "source": [
    "df['Min_Gap'] = df['Min_Gap'].fillna(0)\n",
    "df['Min_Delay'] = df['Min_Delay'].fillna(0)\n",
    "df['Route'] = df['Route'].fillna('0')\n",
    "df['Location'] = df['Location'].fillna('NA')\n",
    "df['Direction'] = df['Direction'].fillna('NA')\n",
    "df['Direction'].isna().sum()\n"
   ]
  },
  {
   "cell_type": "markdown",
   "id": "ee5e448b",
   "metadata": {},
   "source": [
    "## Exploring the Data"
   ]
  },
  {
   "cell_type": "code",
   "execution_count": 157,
   "id": "c8774a12",
   "metadata": {},
   "outputs": [
    {
     "data": {
      "text/plain": [
       "<AxesSubplot:xlabel='Min_Gap', ylabel='Min_Delay'>"
      ]
     },
     "execution_count": 157,
     "metadata": {},
     "output_type": "execute_result"
    },
    {
     "data": {
      "image/png": "[encoded data removed]",
      "text/plain": [
       "<Figure size 432x432 with 1 Axes>"
      ]
     },
     "metadata": {},
     "output_type": "display_data"
    }
   ],
   "source": [
    "import seaborn as sns\n",
    "import matplotlib.pyplot as plt\n",
    "sns.set_theme(style=\"dark\")\n",
    "\n",
    "f, ax = plt.subplots(figsize=(6, 6))\n",
    "sns.scatterplot(x=df['Min_Gap'], y=df['Min_Delay'], s=5, color=\".15\")"
   ]
  },
  {
   "cell_type": "code",
   "execution_count": 158,
   "id": "606c5c20",
   "metadata": {},
   "outputs": [
    {
     "data": {
      "text/plain": [
       "<AxesSubplot:xlabel='Incident', ylabel='Min_Delay'>"
      ]
     },
     "execution_count": 158,
     "metadata": {},
     "output_type": "execute_result"
    },
    {
     "data": {
      "image/png": "[encoded data removed]",
      "text/plain": [
       "<Figure size 1728x432 with 1 Axes>"
      ]
     },
     "metadata": {},
     "output_type": "display_data"
    }
   ],
   "source": [
    "sns.set_theme(style=\"dark\")\n",
    "\n",
    "f, ax = plt.subplots(figsize=(24, 6))\n",
    "sns.scatterplot(x=df['Incident'], y=df['Min_Delay'], s=5, color=\".15\")"
   ]
  },
  {
   "cell_type": "code",
   "execution_count": 159,
   "id": "df2f3f99",
   "metadata": {},
   "outputs": [
    {
     "data": {
      "text/plain": [
       "<seaborn.axisgrid.FacetGrid at 0x7fa93d1e1f70>"
      ]
     },
     "execution_count": 159,
     "metadata": {},
     "output_type": "execute_result"
    },
    {
     "data": {
      "text/plain": [
       "<Figure size 1440x288 with 0 Axes>"
      ]
     },
     "metadata": {},
     "output_type": "display_data"
    },
    {
     "data": {
      "image/png": "[encoded data removed]",
      "text/plain": [
       "<Figure size 661.475x504 with 1 Axes>"
      ]
     },
     "metadata": {},
     "output_type": "display_data"
    }
   ],
   "source": [
    "sns.set_theme(style=\"white\")\n",
    "\n",
    "\n",
    "plt.figure(figsize=(20,4))\n",
    "# Plot miles per gallon against horsepower with other semantics\n",
    "sns.relplot(x=df['Reported_'], y=df['Min_Delay'], hue=df['Incident'], size=df['Min_Gap'],\n",
    "            sizes=(40, 400), alpha=.5, palette=\"muted\",\n",
    "            height=7)\n"
   ]
  },
  {
   "cell_type": "markdown",
   "id": "68f1b65e",
   "metadata": {},
   "source": [
    "## Classification Model"
   ]
  },
  {
   "cell_type": "markdown",
   "id": "729c2258",
   "metadata": {},
   "source": [
    "### Preparation"
   ]
  },
  {
   "cell_type": "code",
   "execution_count": 160,
   "id": "1b4b55ba",
   "metadata": {},
   "outputs": [
    {
     "name": "stdout",
     "output_type": "stream",
     "text": [
      "<class 'pandas.core.frame.DataFrame'>\n",
      "Int64Index: 5355 entries, 0 to 6354\n",
      "Data columns (total 7 columns):\n",
      " #   Column     Non-Null Count  Dtype  \n",
      "---  ------     --------------  -----  \n",
      " 0   Route      5355 non-null   object \n",
      " 1   Time       5355 non-null   object \n",
      " 2   Day        5355 non-null   object \n",
      " 3   Location   5355 non-null   object \n",
      " 4   Incident   5355 non-null   object \n",
      " 5   Min_Gap    5355 non-null   float64\n",
      " 6   Direction  5355 non-null   object \n",
      "dtypes: float64(1), object(6)\n",
      "memory usage: 334.7+ KB\n"
     ]
    }
   ],
   "source": [
    "# Splitting\n",
    "df_class = df.drop('Report_Date', axis=1)\n",
    "df_class = df_class.drop('Vehicle', axis=1)\n",
    "df_class = df_class.drop('Round_Time', axis=1)\n",
    "\n",
    "training = df_class.head(6355)\n",
    "holdout_set = training.sample(1000, random_state=1) # pick 5000 observations randomly\n",
    "training = training.drop(holdout_set.index) # Remove holdout from training data\n",
    "testing = df_class.tail(2724)\n",
    "\n",
    "# Splitting training/testing set to feature (X) and labels (y)\n",
    "train_y = training.Min_Delay\n",
    "train_X = training.drop('Min_Delay', axis=1)\n",
    "\n",
    "test_X = testing.drop('Min_Delay', axis=1)\n",
    "\n",
    "train_X\n",
    "train_X.info()"
   ]
  },
  {
   "cell_type": "markdown",
   "id": "b8df25b6",
   "metadata": {},
   "source": [
    "### Building the classifier"
   ]
  },
  {
   "cell_type": "code",
   "execution_count": 176,
   "id": "97df30e2",
   "metadata": {},
   "outputs": [
    {
     "name": "stdout",
     "output_type": "stream",
     "text": [
      "0:\tlearn: 12.7092632\ttotal: 2.01s\tremaining: 1m 38s\n",
      "1:\tlearn: 52.0209274\ttotal: 4s\tremaining: 1m 36s\n",
      "2:\tlearn: 113.2912659\ttotal: 5.99s\tremaining: 1m 33s\n",
      "3:\tlearn: 43.9970032\ttotal: 8.03s\tremaining: 1m 32s\n",
      "4:\tlearn: 59.8466844\ttotal: 10.2s\tremaining: 1m 32s\n",
      "5:\tlearn: 60.1419190\ttotal: 12.3s\tremaining: 1m 30s\n",
      "6:\tlearn: 76.9434105\ttotal: 14.5s\tremaining: 1m 29s\n",
      "7:\tlearn: 85.6223810\ttotal: 16s\tremaining: 1m 24s\n",
      "8:\tlearn: 73.8136944\ttotal: 18.2s\tremaining: 1m 22s\n",
      "9:\tlearn: 66.6464881\ttotal: 20.6s\tremaining: 1m 22s\n",
      "10:\tlearn: 57.5624122\ttotal: 23.1s\tremaining: 1m 21s\n",
      "11:\tlearn: 52.7733771\ttotal: 25.8s\tremaining: 1m 21s\n",
      "12:\tlearn: 47.6024729\ttotal: 28.2s\tremaining: 1m 20s\n",
      "13:\tlearn: 45.5665494\ttotal: 30.9s\tremaining: 1m 19s\n",
      "14:\tlearn: 39.0511187\ttotal: 33.5s\tremaining: 1m 18s\n",
      "15:\tlearn: 41.0248129\ttotal: 36.1s\tremaining: 1m 16s\n",
      "16:\tlearn: 38.0324754\ttotal: 38.5s\tremaining: 1m 14s\n",
      "17:\tlearn: 38.3640334\ttotal: 41.1s\tremaining: 1m 13s\n",
      "18:\tlearn: 42.2770992\ttotal: 43.9s\tremaining: 1m 11s\n",
      "19:\tlearn: 46.4691904\ttotal: 46.4s\tremaining: 1m 9s\n",
      "20:\tlearn: 56.0143127\ttotal: 48.8s\tremaining: 1m 7s\n",
      "21:\tlearn: 41.7302617\ttotal: 51.4s\tremaining: 1m 5s\n",
      "22:\tlearn: 54.5416235\ttotal: 53.9s\tremaining: 1m 3s\n",
      "23:\tlearn: 41.3743409\ttotal: 56.5s\tremaining: 1m 1s\n",
      "24:\tlearn: 69.0706377\ttotal: 58.9s\tremaining: 58.9s\n",
      "25:\tlearn: 47.4410840\ttotal: 1m 1s\tremaining: 56.6s\n",
      "26:\tlearn: 51.9101465\ttotal: 1m 3s\tremaining: 54.2s\n",
      "27:\tlearn: 43.3358129\ttotal: 1m 6s\tremaining: 51.9s\n",
      "28:\tlearn: 40.5527296\ttotal: 1m 8s\tremaining: 49.5s\n",
      "29:\tlearn: 33.3156131\ttotal: 1m 10s\tremaining: 47.1s\n",
      "30:\tlearn: 32.3937209\ttotal: 1m 12s\tremaining: 44.7s\n",
      "31:\tlearn: 31.4451592\ttotal: 1m 15s\tremaining: 42.4s\n",
      "32:\tlearn: 31.7982523\ttotal: 1m 17s\tremaining: 40s\n",
      "33:\tlearn: 37.4862001\ttotal: 1m 19s\tremaining: 37.6s\n",
      "34:\tlearn: 39.4644771\ttotal: 1m 22s\tremaining: 35.2s\n",
      "35:\tlearn: 50.1265646\ttotal: 1m 24s\tremaining: 32.9s\n",
      "36:\tlearn: 35.4300524\ttotal: 1m 26s\tremaining: 30.6s\n",
      "37:\tlearn: 37.2086739\ttotal: 1m 29s\tremaining: 28.2s\n",
      "38:\tlearn: 32.6185567\ttotal: 1m 31s\tremaining: 25.8s\n",
      "39:\tlearn: 32.2216413\ttotal: 1m 33s\tremaining: 23.5s\n",
      "40:\tlearn: 30.3466770\ttotal: 1m 36s\tremaining: 21.1s\n",
      "41:\tlearn: 32.0196395\ttotal: 1m 38s\tremaining: 18.8s\n",
      "42:\tlearn: 29.1964510\ttotal: 1m 40s\tremaining: 16.4s\n",
      "43:\tlearn: 29.2764393\ttotal: 1m 43s\tremaining: 14.1s\n",
      "44:\tlearn: 28.5074460\ttotal: 1m 45s\tremaining: 11.7s\n",
      "45:\tlearn: 29.4483371\ttotal: 1m 48s\tremaining: 9.4s\n",
      "46:\tlearn: 27.8765791\ttotal: 1m 50s\tremaining: 7.04s\n",
      "47:\tlearn: 27.3814532\ttotal: 1m 52s\tremaining: 4.7s\n",
      "48:\tlearn: 26.9894434\ttotal: 1m 55s\tremaining: 2.35s\n",
      "49:\tlearn: 27.0575693\ttotal: 1m 57s\tremaining: 0us\n"
     ]
    },
    {
     "data": {
      "text/plain": [
       "<catboost.core.CatBoostClassifier at 0x7fa93c6c9d90>"
      ]
     },
     "execution_count": 176,
     "metadata": {},
     "output_type": "execute_result"
    }
   ],
   "source": [
    "from catboost import Pool, CatBoostClassifier\n",
    "\n",
    "\n",
    "cat_features = ['Route', 'Time', 'Day', 'Location', 'Incident', 'Direction']\n",
    "\n",
    "\n",
    "train_dataset = Pool(data=train_X,\n",
    "                     label=train_y,\n",
    "                     cat_features=cat_features)\n",
    "\n",
    "model = CatBoostClassifier(iterations=50,\n",
    "                           learning_rate=1,\n",
    "                           depth=3,\n",
    "                           loss_function='MultiClass')\n",
    "\n",
    "model.fit(train_dataset)"
   ]
  },
  {
   "cell_type": "markdown",
   "id": "37db1e7a",
   "metadata": {},
   "source": [
    "## Estimating Accuracy"
   ]
  },
  {
   "cell_type": "markdown",
   "id": "e481819f",
   "metadata": {},
   "source": [
    "### Predicting against Holdout set"
   ]
  },
  {
   "cell_type": "code",
   "execution_count": 177,
   "id": "652dc7c3",
   "metadata": {},
   "outputs": [
    {
     "name": "stdout",
     "output_type": "stream",
     "text": [
      "0.596\n"
     ]
    }
   ],
   "source": [
    "from sklearn.metrics import accuracy_score \n",
    "# Estimate accuracy\n",
    "\n",
    "pred = model.predict(holdout_set.drop('Min_Delay',axis=1))\n",
    "holdout_set['Min_Delay']\n",
    "estimated_accuracy = accuracy_score(holdout_set['Min_Delay'], pred)\n",
    "print(estimated_accuracy)\n",
    "#pd.Series(estimated_accuracy).to_csv('ea.csv', index=False, header=False)"
   ]
  },
  {
   "cell_type": "markdown",
   "id": "0c855ff1",
   "metadata": {},
   "source": [
    "### Predicting against Testing set"
   ]
  },
  {
   "cell_type": "code",
   "execution_count": 178,
   "id": "58f33516",
   "metadata": {},
   "outputs": [
    {
     "name": "stdout",
     "output_type": "stream",
     "text": [
      "0.4563142437591777\n"
     ]
    }
   ],
   "source": [
    "pred = model.predict(testing.drop('Min_Delay',axis=1))\n",
    "estimated_accuracy = accuracy_score(testing['Min_Delay'], pred)\n",
    "print(estimated_accuracy)"
   ]
  },
  {
   "cell_type": "markdown",
   "id": "e4121894",
   "metadata": {},
   "source": [
    "### Baseline"
   ]
  },
  {
   "cell_type": "code",
   "execution_count": 254,
   "id": "68fe1a48",
   "metadata": {},
   "outputs": [
    {
     "name": "stdout",
     "output_type": "stream",
     "text": [
      "0.209\n"
     ]
    }
   ],
   "source": [
    "#create a dict of unique incidents\n",
    "incidents = df['Incident'].unique()\n",
    "modes = {}\n",
    "\n",
    "#Find and store mode of Min_Delay minutes of each incident\n",
    "for i in incidents:\n",
    "    modes[i] = df.loc[df['Incident'] == i]['Min_Delay'].mode()\n",
    "\n",
    "#Cleaning dict\n",
    "for v in modes:\n",
    "    modes[v] = modes[v][0]\n",
    "\n",
    "baseline_pred = []\n",
    "\n",
    "#Baseline comparison to holdout_set\n",
    "for incident in holdout_set['Incident']:\n",
    "    baseline_pred.append(int(modes[incident]))\n",
    "\n",
    "#Accuracy test for baseline predictions on holdout_set\n",
    "estimated_accuracy = accuracy_score(holdout_set['Min_Delay'], baseline_pred)  \n",
    "print(estimated_accuracy)\n"
   ]
  },
  {
   "cell_type": "code",
   "execution_count": 255,
   "id": "d814299a",
   "metadata": {},
   "outputs": [
    {
     "name": "stdout",
     "output_type": "stream",
     "text": [
      "0.1472099853157122\n"
     ]
    }
   ],
   "source": [
    "baseline_pred = []\n",
    "\n",
    "for incident in testing['Incident']:\n",
    "    baseline_pred.append(modes[incident])\n",
    "\n",
    "estimated_accuracy = accuracy_score(testing['Min_Delay'], baseline_pred)  \n",
    "print(estimated_accuracy)"
   ]
  },
  {
   "cell_type": "markdown",
   "id": "81a92f31",
   "metadata": {},
   "source": [
    "## Clustering Model"
   ]
  },
  {
   "cell_type": "code",
   "execution_count": 99,
   "id": "a0566e49",
   "metadata": {},
   "outputs": [
    {
     "ename": "ValueError",
     "evalue": "Expected 2D array, got 1D array instead:\narray=[ 4. 20. 13. ... 20. 13. 12.].\nReshape your data either using array.reshape(-1, 1) if your data has a single feature or array.reshape(1, -1) if it contains a single sample.",
     "output_type": "error",
     "traceback": [
      "\u001b[0;31m---------------------------------------------------------------------------\u001b[0m",
      "\u001b[0;31mValueError\u001b[0m                                Traceback (most recent call last)",
      "\u001b[0;32m<ipython-input-99-ed4ed41670c5>\u001b[0m in \u001b[0;36m<module>\u001b[0;34m\u001b[0m\n\u001b[1;32m      5\u001b[0m \u001b[0;31m# fit kmeans object to data\u001b[0m\u001b[0;34m\u001b[0m\u001b[0;34m\u001b[0m\u001b[0;34m\u001b[0m\u001b[0m\n\u001b[1;32m      6\u001b[0m \u001b[0mpoints\u001b[0m \u001b[0;34m=\u001b[0m \u001b[0mdf\u001b[0m\u001b[0;34m[\u001b[0m\u001b[0;34m'Min_Delay'\u001b[0m\u001b[0;34m]\u001b[0m\u001b[0;34m\u001b[0m\u001b[0;34m\u001b[0m\u001b[0m\n\u001b[0;32m----> 7\u001b[0;31m \u001b[0mkmeans\u001b[0m\u001b[0;34m.\u001b[0m\u001b[0mfit\u001b[0m\u001b[0;34m(\u001b[0m\u001b[0mpoints\u001b[0m\u001b[0;34m)\u001b[0m\u001b[0;34m\u001b[0m\u001b[0;34m\u001b[0m\u001b[0m\n\u001b[0m\u001b[1;32m      8\u001b[0m \u001b[0;31m# print location of clusters learned by kmeans object\u001b[0m\u001b[0;34m\u001b[0m\u001b[0;34m\u001b[0m\u001b[0;34m\u001b[0m\u001b[0m\n\u001b[1;32m      9\u001b[0m \u001b[0mprint\u001b[0m\u001b[0;34m(\u001b[0m\u001b[0mkmeans\u001b[0m\u001b[0;34m.\u001b[0m\u001b[0mcluster_centers_\u001b[0m\u001b[0;34m)\u001b[0m\u001b[0;34m\u001b[0m\u001b[0;34m\u001b[0m\u001b[0m\n",
      "\u001b[0;32m~/opt/anaconda3/lib/python3.8/site-packages/sklearn/cluster/_kmeans.py\u001b[0m in \u001b[0;36mfit\u001b[0;34m(self, X, y, sample_weight)\u001b[0m\n\u001b[1;32m    977\u001b[0m             \u001b[0mFitted\u001b[0m \u001b[0mestimator\u001b[0m\u001b[0;34m.\u001b[0m\u001b[0;34m\u001b[0m\u001b[0;34m\u001b[0m\u001b[0m\n\u001b[1;32m    978\u001b[0m         \"\"\"\n\u001b[0;32m--> 979\u001b[0;31m         X = self._validate_data(X, accept_sparse='csr',\n\u001b[0m\u001b[1;32m    980\u001b[0m                                 \u001b[0mdtype\u001b[0m\u001b[0;34m=\u001b[0m\u001b[0;34m[\u001b[0m\u001b[0mnp\u001b[0m\u001b[0;34m.\u001b[0m\u001b[0mfloat64\u001b[0m\u001b[0;34m,\u001b[0m \u001b[0mnp\u001b[0m\u001b[0;34m.\u001b[0m\u001b[0mfloat32\u001b[0m\u001b[0;34m]\u001b[0m\u001b[0;34m,\u001b[0m\u001b[0;34m\u001b[0m\u001b[0;34m\u001b[0m\u001b[0m\n\u001b[1;32m    981\u001b[0m                                 \u001b[0morder\u001b[0m\u001b[0;34m=\u001b[0m\u001b[0;34m'C'\u001b[0m\u001b[0;34m,\u001b[0m \u001b[0mcopy\u001b[0m\u001b[0;34m=\u001b[0m\u001b[0mself\u001b[0m\u001b[0;34m.\u001b[0m\u001b[0mcopy_x\u001b[0m\u001b[0;34m,\u001b[0m\u001b[0;34m\u001b[0m\u001b[0;34m\u001b[0m\u001b[0m\n",
      "\u001b[0;32m~/opt/anaconda3/lib/python3.8/site-packages/sklearn/base.py\u001b[0m in \u001b[0;36m_validate_data\u001b[0;34m(self, X, y, reset, validate_separately, **check_params)\u001b[0m\n\u001b[1;32m    419\u001b[0m             \u001b[0mout\u001b[0m \u001b[0;34m=\u001b[0m \u001b[0mX\u001b[0m\u001b[0;34m\u001b[0m\u001b[0;34m\u001b[0m\u001b[0m\n\u001b[1;32m    420\u001b[0m         \u001b[0;32melif\u001b[0m \u001b[0misinstance\u001b[0m\u001b[0;34m(\u001b[0m\u001b[0my\u001b[0m\u001b[0;34m,\u001b[0m \u001b[0mstr\u001b[0m\u001b[0;34m)\u001b[0m \u001b[0;32mand\u001b[0m \u001b[0my\u001b[0m \u001b[0;34m==\u001b[0m \u001b[0;34m'no_validation'\u001b[0m\u001b[0;34m:\u001b[0m\u001b[0;34m\u001b[0m\u001b[0;34m\u001b[0m\u001b[0m\n\u001b[0;32m--> 421\u001b[0;31m             \u001b[0mX\u001b[0m \u001b[0;34m=\u001b[0m \u001b[0mcheck_array\u001b[0m\u001b[0;34m(\u001b[0m\u001b[0mX\u001b[0m\u001b[0;34m,\u001b[0m \u001b[0;34m**\u001b[0m\u001b[0mcheck_params\u001b[0m\u001b[0;34m)\u001b[0m\u001b[0;34m\u001b[0m\u001b[0;34m\u001b[0m\u001b[0m\n\u001b[0m\u001b[1;32m    422\u001b[0m             \u001b[0mout\u001b[0m \u001b[0;34m=\u001b[0m \u001b[0mX\u001b[0m\u001b[0;34m\u001b[0m\u001b[0;34m\u001b[0m\u001b[0m\n\u001b[1;32m    423\u001b[0m         \u001b[0;32melse\u001b[0m\u001b[0;34m:\u001b[0m\u001b[0;34m\u001b[0m\u001b[0;34m\u001b[0m\u001b[0m\n",
      "\u001b[0;32m~/opt/anaconda3/lib/python3.8/site-packages/sklearn/utils/validation.py\u001b[0m in \u001b[0;36minner_f\u001b[0;34m(*args, **kwargs)\u001b[0m\n\u001b[1;32m     61\u001b[0m             \u001b[0mextra_args\u001b[0m \u001b[0;34m=\u001b[0m \u001b[0mlen\u001b[0m\u001b[0;34m(\u001b[0m\u001b[0margs\u001b[0m\u001b[0;34m)\u001b[0m \u001b[0;34m-\u001b[0m \u001b[0mlen\u001b[0m\u001b[0;34m(\u001b[0m\u001b[0mall_args\u001b[0m\u001b[0;34m)\u001b[0m\u001b[0;34m\u001b[0m\u001b[0;34m\u001b[0m\u001b[0m\n\u001b[1;32m     62\u001b[0m             \u001b[0;32mif\u001b[0m \u001b[0mextra_args\u001b[0m \u001b[0;34m<=\u001b[0m \u001b[0;36m0\u001b[0m\u001b[0;34m:\u001b[0m\u001b[0;34m\u001b[0m\u001b[0;34m\u001b[0m\u001b[0m\n\u001b[0;32m---> 63\u001b[0;31m                 \u001b[0;32mreturn\u001b[0m \u001b[0mf\u001b[0m\u001b[0;34m(\u001b[0m\u001b[0;34m*\u001b[0m\u001b[0margs\u001b[0m\u001b[0;34m,\u001b[0m \u001b[0;34m**\u001b[0m\u001b[0mkwargs\u001b[0m\u001b[0;34m)\u001b[0m\u001b[0;34m\u001b[0m\u001b[0;34m\u001b[0m\u001b[0m\n\u001b[0m\u001b[1;32m     64\u001b[0m \u001b[0;34m\u001b[0m\u001b[0m\n\u001b[1;32m     65\u001b[0m             \u001b[0;31m# extra_args > 0\u001b[0m\u001b[0;34m\u001b[0m\u001b[0;34m\u001b[0m\u001b[0;34m\u001b[0m\u001b[0m\n",
      "\u001b[0;32m~/opt/anaconda3/lib/python3.8/site-packages/sklearn/utils/validation.py\u001b[0m in \u001b[0;36mcheck_array\u001b[0;34m(array, accept_sparse, accept_large_sparse, dtype, order, copy, force_all_finite, ensure_2d, allow_nd, ensure_min_samples, ensure_min_features, estimator)\u001b[0m\n\u001b[1;32m    692\u001b[0m             \u001b[0;31m# If input is 1D raise error\u001b[0m\u001b[0;34m\u001b[0m\u001b[0;34m\u001b[0m\u001b[0;34m\u001b[0m\u001b[0m\n\u001b[1;32m    693\u001b[0m             \u001b[0;32mif\u001b[0m \u001b[0marray\u001b[0m\u001b[0;34m.\u001b[0m\u001b[0mndim\u001b[0m \u001b[0;34m==\u001b[0m \u001b[0;36m1\u001b[0m\u001b[0;34m:\u001b[0m\u001b[0;34m\u001b[0m\u001b[0;34m\u001b[0m\u001b[0m\n\u001b[0;32m--> 694\u001b[0;31m                 raise ValueError(\n\u001b[0m\u001b[1;32m    695\u001b[0m                     \u001b[0;34m\"Expected 2D array, got 1D array instead:\\narray={}.\\n\"\u001b[0m\u001b[0;34m\u001b[0m\u001b[0;34m\u001b[0m\u001b[0m\n\u001b[1;32m    696\u001b[0m                     \u001b[0;34m\"Reshape your data either using array.reshape(-1, 1) if \"\u001b[0m\u001b[0;34m\u001b[0m\u001b[0;34m\u001b[0m\u001b[0m\n",
      "\u001b[0;31mValueError\u001b[0m: Expected 2D array, got 1D array instead:\narray=[ 4. 20. 13. ... 20. 13. 12.].\nReshape your data either using array.reshape(-1, 1) if your data has a single feature or array.reshape(1, -1) if it contains a single sample."
     ]
    }
   ],
   "source": [
    "from sklearn.cluster import KMeans\n",
    "\n",
    "# create kmeans object\n",
    "kmeans = KMeans(n_clusters=4)\n",
    "# fit kmeans object to data\n",
    "points = df['Min_Delay']\n",
    "kmeans.fit(points)\n",
    "# print location of clusters learned by kmeans object\n",
    "print(kmeans.cluster_centers_)\n",
    "# save new clusters for chart\n",
    "y_km = kmeans.fit_predict(points)\n",
    "\n",
    "plt.scatter(points[y_km ==0,0], points[y_km == 0,1], s=100, c='red')\n",
    "plt.scatter(points[y_km ==1,0], points[y_km == 1,1], s=100, c='black')\n",
    "plt.scatter(points[y_km ==2,0], points[y_km == 2,1], s=100, c='blue')\n",
    "plt.scatter(points[y_km ==3,0], points[y_km == 3,1], s=100, c='cyan')"
   ]
  }
 ],
 "metadata": {
  "kernelspec": {
   "display_name": "Python 3",
   "language": "python",
   "name": "python3"
  },
  "language_info": {
   "codemirror_mode": {
    "name": "ipython",
    "version": 3
   },
   "file_extension": ".py",
   "mimetype": "text/x-python",
   "name": "python",
   "nbconvert_exporter": "python",
   "pygments_lexer": "ipython3",
   "version": "3.8.8"
  }
 },
 "nbformat": 4,
 "nbformat_minor": 5
}
